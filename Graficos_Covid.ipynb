{
 "cells": [
  {
   "cell_type": "code",
   "execution_count": 51,
   "metadata": {
    "colab": {
     "base_uri": "https://localhost:8080/",
     "height": 437
    },
    "colab_type": "code",
    "id": "Xi5wOtVDrm74",
    "outputId": "3111ee5f-688e-477b-fa9f-b081f6b89013"
   },
   "outputs": [],
   "source": [
    "import numpy as np\n",
    "import pandas as pd\n",
    "import matplotlib.pyplot as plt\n",
    "import dateutil\n",
    "\n",
    "# https://www.datos.gov.co/Salud-y-Protecci-n-Social/Casos-positivos-de-COVID-19-en-Colombia/gt2j-8ykr\n",
    "\n",
    "data = pd.read_csv(\"Casos_positivos_de_COVID-19_en_Colombia.csv\", index_col='ID de caso') "
   ]
  },
  {
   "cell_type": "code",
   "execution_count": 52,
   "metadata": {
    "colab": {
     "base_uri": "https://localhost:8080/",
     "height": 174
    },
    "colab_type": "code",
    "id": "NJm_hobksW4B",
    "outputId": "8c7aa525-f861-4c99-a9bf-19f77432eec8"
   },
   "outputs": [
    {
     "data": {
      "text/html": [
       "<div>\n",
       "<style scoped>\n",
       "    .dataframe tbody tr th:only-of-type {\n",
       "        vertical-align: middle;\n",
       "    }\n",
       "\n",
       "    .dataframe tbody tr th {\n",
       "        vertical-align: top;\n",
       "    }\n",
       "\n",
       "    .dataframe thead th {\n",
       "        text-align: right;\n",
       "    }\n",
       "</style>\n",
       "<table border=\"1\" class=\"dataframe\">\n",
       "  <thead>\n",
       "    <tr style=\"text-align: right;\">\n",
       "      <th></th>\n",
       "      <th>Fecha de notificación</th>\n",
       "      <th>Codigo DIVIPOLA</th>\n",
       "      <th>Ciudad de ubicación</th>\n",
       "      <th>Departamento o Distrito</th>\n",
       "      <th>atención</th>\n",
       "      <th>Edad</th>\n",
       "      <th>Sexo</th>\n",
       "      <th>Tipo</th>\n",
       "      <th>Estado</th>\n",
       "      <th>País de procedencia</th>\n",
       "      <th>FIS</th>\n",
       "      <th>Fecha de muerte</th>\n",
       "      <th>Fecha diagnostico</th>\n",
       "      <th>Fecha recuperado</th>\n",
       "      <th>fecha reporte web</th>\n",
       "    </tr>\n",
       "    <tr>\n",
       "      <th>ID de caso</th>\n",
       "      <th></th>\n",
       "      <th></th>\n",
       "      <th></th>\n",
       "      <th></th>\n",
       "      <th></th>\n",
       "      <th></th>\n",
       "      <th></th>\n",
       "      <th></th>\n",
       "      <th></th>\n",
       "      <th></th>\n",
       "      <th></th>\n",
       "      <th></th>\n",
       "      <th></th>\n",
       "      <th></th>\n",
       "      <th></th>\n",
       "    </tr>\n",
       "  </thead>\n",
       "  <tbody>\n",
       "    <tr>\n",
       "      <th>1</th>\n",
       "      <td>2020-03-02T00:00:00.000</td>\n",
       "      <td>11001</td>\n",
       "      <td>Bogotá D.C.</td>\n",
       "      <td>Bogotá D.C.</td>\n",
       "      <td>Recuperado</td>\n",
       "      <td>19</td>\n",
       "      <td>F</td>\n",
       "      <td>Importado</td>\n",
       "      <td>Leve</td>\n",
       "      <td>Italia</td>\n",
       "      <td>2020-02-27T00:00:00.000</td>\n",
       "      <td>-   -</td>\n",
       "      <td>2020-03-06T00:00:00.000</td>\n",
       "      <td>2020-03-13T00:00:00.000</td>\n",
       "      <td>2020-03-06T00:00:00.000</td>\n",
       "    </tr>\n",
       "    <tr>\n",
       "      <th>2</th>\n",
       "      <td>2020-03-06T00:00:00.000</td>\n",
       "      <td>76111</td>\n",
       "      <td>Guadalajara de Buga</td>\n",
       "      <td>Valle del Cauca</td>\n",
       "      <td>Recuperado</td>\n",
       "      <td>34</td>\n",
       "      <td>M</td>\n",
       "      <td>Importado</td>\n",
       "      <td>Leve</td>\n",
       "      <td>España</td>\n",
       "      <td>2020-03-04T00:00:00.000</td>\n",
       "      <td>-   -</td>\n",
       "      <td>2020-03-09T00:00:00.000</td>\n",
       "      <td>2020-03-19T00:00:00.000</td>\n",
       "      <td>2020-03-09T00:00:00.000</td>\n",
       "    </tr>\n",
       "    <tr>\n",
       "      <th>3</th>\n",
       "      <td>2020-03-07T00:00:00.000</td>\n",
       "      <td>5001</td>\n",
       "      <td>Medellín</td>\n",
       "      <td>Antioquia</td>\n",
       "      <td>Recuperado</td>\n",
       "      <td>50</td>\n",
       "      <td>F</td>\n",
       "      <td>Importado</td>\n",
       "      <td>Leve</td>\n",
       "      <td>España</td>\n",
       "      <td>2020-02-29T00:00:00.000</td>\n",
       "      <td>-   -</td>\n",
       "      <td>2020-03-09T00:00:00.000</td>\n",
       "      <td>2020-03-15T00:00:00.000</td>\n",
       "      <td>2020-03-09T00:00:00.000</td>\n",
       "    </tr>\n",
       "    <tr>\n",
       "      <th>4</th>\n",
       "      <td>2020-03-09T00:00:00.000</td>\n",
       "      <td>5001</td>\n",
       "      <td>Medellín</td>\n",
       "      <td>Antioquia</td>\n",
       "      <td>Recuperado</td>\n",
       "      <td>55</td>\n",
       "      <td>M</td>\n",
       "      <td>Relacionado</td>\n",
       "      <td>Leve</td>\n",
       "      <td>Colombia</td>\n",
       "      <td>2020-03-06T00:00:00.000</td>\n",
       "      <td>-   -</td>\n",
       "      <td>2020-03-11T00:00:00.000</td>\n",
       "      <td>2020-03-26T00:00:00.000</td>\n",
       "      <td>2020-03-11T00:00:00.000</td>\n",
       "    </tr>\n",
       "    <tr>\n",
       "      <th>5</th>\n",
       "      <td>2020-03-09T00:00:00.000</td>\n",
       "      <td>5001</td>\n",
       "      <td>Medellín</td>\n",
       "      <td>Antioquia</td>\n",
       "      <td>Recuperado</td>\n",
       "      <td>25</td>\n",
       "      <td>M</td>\n",
       "      <td>Relacionado</td>\n",
       "      <td>Leve</td>\n",
       "      <td>Colombia</td>\n",
       "      <td>2020-03-08T00:00:00.000</td>\n",
       "      <td>-   -</td>\n",
       "      <td>2020-03-11T00:00:00.000</td>\n",
       "      <td>2020-03-23T00:00:00.000</td>\n",
       "      <td>2020-03-11T00:00:00.000</td>\n",
       "    </tr>\n",
       "    <tr>\n",
       "      <th>6</th>\n",
       "      <td>2020-03-10T00:00:00.000</td>\n",
       "      <td>5360</td>\n",
       "      <td>Itagüí</td>\n",
       "      <td>Antioquia</td>\n",
       "      <td>Recuperado</td>\n",
       "      <td>27</td>\n",
       "      <td>F</td>\n",
       "      <td>Relacionado</td>\n",
       "      <td>Leve</td>\n",
       "      <td>Colombia</td>\n",
       "      <td>2020-03-06T00:00:00.000</td>\n",
       "      <td>-   -</td>\n",
       "      <td>2020-03-11T00:00:00.000</td>\n",
       "      <td>2020-03-26T00:00:00.000</td>\n",
       "      <td>2020-03-11T00:00:00.000</td>\n",
       "    </tr>\n",
       "    <tr>\n",
       "      <th>7</th>\n",
       "      <td>2020-03-08T00:00:00.000</td>\n",
       "      <td>13001</td>\n",
       "      <td>Cartagena de Indias</td>\n",
       "      <td>Cartagena D.T. y C.</td>\n",
       "      <td>Recuperado</td>\n",
       "      <td>85</td>\n",
       "      <td>F</td>\n",
       "      <td>Importado</td>\n",
       "      <td>Leve</td>\n",
       "      <td>Estados Unidos de América</td>\n",
       "      <td>2020-03-02T00:00:00.000</td>\n",
       "      <td>-   -</td>\n",
       "      <td>2020-03-11T00:00:00.000</td>\n",
       "      <td>2020-03-17T00:00:00.000</td>\n",
       "      <td>2020-03-11T00:00:00.000</td>\n",
       "    </tr>\n",
       "    <tr>\n",
       "      <th>8</th>\n",
       "      <td>2020-03-09T00:00:00.000</td>\n",
       "      <td>11001</td>\n",
       "      <td>Bogotá D.C.</td>\n",
       "      <td>Bogotá D.C.</td>\n",
       "      <td>Recuperado</td>\n",
       "      <td>22</td>\n",
       "      <td>F</td>\n",
       "      <td>Importado</td>\n",
       "      <td>Leve</td>\n",
       "      <td>España</td>\n",
       "      <td>2020-03-06T00:00:00.000</td>\n",
       "      <td>-   -</td>\n",
       "      <td>2020-03-11T00:00:00.000</td>\n",
       "      <td>2020-03-21T00:00:00.000</td>\n",
       "      <td>2020-03-11T00:00:00.000</td>\n",
       "    </tr>\n",
       "    <tr>\n",
       "      <th>9</th>\n",
       "      <td>2020-03-08T00:00:00.000</td>\n",
       "      <td>11001</td>\n",
       "      <td>Bogotá D.C.</td>\n",
       "      <td>Bogotá D.C.</td>\n",
       "      <td>Recuperado</td>\n",
       "      <td>28</td>\n",
       "      <td>F</td>\n",
       "      <td>Importado</td>\n",
       "      <td>Leve</td>\n",
       "      <td>España</td>\n",
       "      <td>2020-03-07T00:00:00.000</td>\n",
       "      <td>-   -</td>\n",
       "      <td>2020-03-11T00:00:00.000</td>\n",
       "      <td>2020-03-23T00:00:00.000</td>\n",
       "      <td>2020-03-11T00:00:00.000</td>\n",
       "    </tr>\n",
       "    <tr>\n",
       "      <th>10</th>\n",
       "      <td>2020-03-12T00:00:00.000</td>\n",
       "      <td>11001</td>\n",
       "      <td>Bogotá D.C.</td>\n",
       "      <td>Bogotá D.C.</td>\n",
       "      <td>Recuperado</td>\n",
       "      <td>36</td>\n",
       "      <td>F</td>\n",
       "      <td>Importado</td>\n",
       "      <td>Leve</td>\n",
       "      <td>España</td>\n",
       "      <td>2020-03-06T00:00:00.000</td>\n",
       "      <td>-   -</td>\n",
       "      <td>2020-03-12T00:00:00.000</td>\n",
       "      <td>2020-03-21T00:00:00.000</td>\n",
       "      <td>2020-03-12T00:00:00.000</td>\n",
       "    </tr>\n",
       "    <tr>\n",
       "      <th>11</th>\n",
       "      <td>2020-03-11T00:00:00.000</td>\n",
       "      <td>11001</td>\n",
       "      <td>Bogotá D.C.</td>\n",
       "      <td>Bogotá D.C.</td>\n",
       "      <td>Recuperado</td>\n",
       "      <td>42</td>\n",
       "      <td>F</td>\n",
       "      <td>Importado</td>\n",
       "      <td>Leve</td>\n",
       "      <td>España</td>\n",
       "      <td>2020-03-06T00:00:00.000</td>\n",
       "      <td>-   -</td>\n",
       "      <td>2020-03-12T00:00:00.000</td>\n",
       "      <td>2020-03-31T00:00:00.000</td>\n",
       "      <td>2020-03-12T00:00:00.000</td>\n",
       "    </tr>\n",
       "    <tr>\n",
       "      <th>12</th>\n",
       "      <td>2020-03-10T00:00:00.000</td>\n",
       "      <td>41001</td>\n",
       "      <td>Neiva</td>\n",
       "      <td>Huila</td>\n",
       "      <td>Recuperado</td>\n",
       "      <td>74</td>\n",
       "      <td>F</td>\n",
       "      <td>Importado</td>\n",
       "      <td>Leve</td>\n",
       "      <td>Italia</td>\n",
       "      <td>2020-03-06T00:00:00.000</td>\n",
       "      <td>-   -</td>\n",
       "      <td>2020-03-12T00:00:00.000</td>\n",
       "      <td>2020-04-09T00:00:00.000</td>\n",
       "      <td>2020-03-12T00:00:00.000</td>\n",
       "    </tr>\n",
       "    <tr>\n",
       "      <th>13</th>\n",
       "      <td>2020-03-10T00:00:00.000</td>\n",
       "      <td>41001</td>\n",
       "      <td>Neiva</td>\n",
       "      <td>Huila</td>\n",
       "      <td>Recuperado</td>\n",
       "      <td>68</td>\n",
       "      <td>F</td>\n",
       "      <td>Relacionado</td>\n",
       "      <td>Leve</td>\n",
       "      <td>Colombia</td>\n",
       "      <td>2020-03-06T00:00:00.000</td>\n",
       "      <td>-   -</td>\n",
       "      <td>2020-03-12T00:00:00.000</td>\n",
       "      <td>2020-03-30T00:00:00.000</td>\n",
       "      <td>2020-03-12T00:00:00.000</td>\n",
       "    </tr>\n",
       "    <tr>\n",
       "      <th>14</th>\n",
       "      <td>2020-03-10T00:00:00.000</td>\n",
       "      <td>76520</td>\n",
       "      <td>Palmira</td>\n",
       "      <td>Valle del Cauca</td>\n",
       "      <td>Recuperado</td>\n",
       "      <td>48</td>\n",
       "      <td>M</td>\n",
       "      <td>Importado</td>\n",
       "      <td>Leve</td>\n",
       "      <td>España</td>\n",
       "      <td>2020-03-07T00:00:00.000</td>\n",
       "      <td>-   -</td>\n",
       "      <td>2020-03-13T00:00:00.000</td>\n",
       "      <td>2020-03-21T00:00:00.000</td>\n",
       "      <td>2020-03-13T00:00:00.000</td>\n",
       "    </tr>\n",
       "    <tr>\n",
       "      <th>15</th>\n",
       "      <td>2020-03-13T00:00:00.000</td>\n",
       "      <td>50001</td>\n",
       "      <td>Villavicencio</td>\n",
       "      <td>Meta</td>\n",
       "      <td>Recuperado</td>\n",
       "      <td>30</td>\n",
       "      <td>F</td>\n",
       "      <td>Importado</td>\n",
       "      <td>Leve</td>\n",
       "      <td>España</td>\n",
       "      <td>2020-03-09T00:00:00.000</td>\n",
       "      <td>-   -</td>\n",
       "      <td>2020-03-13T00:00:00.000</td>\n",
       "      <td>2020-03-23T00:00:00.000</td>\n",
       "      <td>2020-03-13T00:00:00.000</td>\n",
       "    </tr>\n",
       "    <tr>\n",
       "      <th>16</th>\n",
       "      <td>2020-03-11T00:00:00.000</td>\n",
       "      <td>11001</td>\n",
       "      <td>Bogotá D.C.</td>\n",
       "      <td>Bogotá D.C.</td>\n",
       "      <td>Recuperado</td>\n",
       "      <td>61</td>\n",
       "      <td>F</td>\n",
       "      <td>Importado</td>\n",
       "      <td>Leve</td>\n",
       "      <td>Italia</td>\n",
       "      <td>2020-03-08T00:00:00.000</td>\n",
       "      <td>-   -</td>\n",
       "      <td>2020-03-13T00:00:00.000</td>\n",
       "      <td>2020-03-23T00:00:00.000</td>\n",
       "      <td>2020-03-13T00:00:00.000</td>\n",
       "    </tr>\n",
       "    <tr>\n",
       "      <th>17</th>\n",
       "      <td>2020-03-11T00:00:00.000</td>\n",
       "      <td>11001</td>\n",
       "      <td>Bogotá D.C.</td>\n",
       "      <td>Bogotá D.C.</td>\n",
       "      <td>Recuperado</td>\n",
       "      <td>73</td>\n",
       "      <td>F</td>\n",
       "      <td>Importado</td>\n",
       "      <td>Leve</td>\n",
       "      <td>España</td>\n",
       "      <td>2020-02-28T00:00:00.000</td>\n",
       "      <td>-   -</td>\n",
       "      <td>2020-03-14T00:00:00.000</td>\n",
       "      <td>2020-03-14T00:00:00.000</td>\n",
       "      <td>2020-03-14T00:00:00.000</td>\n",
       "    </tr>\n",
       "    <tr>\n",
       "      <th>18</th>\n",
       "      <td>2020-03-11T00:00:00.000</td>\n",
       "      <td>11001</td>\n",
       "      <td>Bogotá D.C.</td>\n",
       "      <td>Bogotá D.C.</td>\n",
       "      <td>Recuperado</td>\n",
       "      <td>54</td>\n",
       "      <td>M</td>\n",
       "      <td>Importado</td>\n",
       "      <td>Leve</td>\n",
       "      <td>España</td>\n",
       "      <td>2020-03-07T00:00:00.000</td>\n",
       "      <td>-   -</td>\n",
       "      <td>2020-03-14T00:00:00.000</td>\n",
       "      <td>2020-04-07T00:00:00.000</td>\n",
       "      <td>2020-03-14T00:00:00.000</td>\n",
       "    </tr>\n",
       "    <tr>\n",
       "      <th>19</th>\n",
       "      <td>2020-03-12T00:00:00.000</td>\n",
       "      <td>11001</td>\n",
       "      <td>Bogotá D.C.</td>\n",
       "      <td>Bogotá D.C.</td>\n",
       "      <td>Recuperado</td>\n",
       "      <td>54</td>\n",
       "      <td>F</td>\n",
       "      <td>Relacionado</td>\n",
       "      <td>Leve</td>\n",
       "      <td>Colombia</td>\n",
       "      <td>2020-03-09T00:00:00.000</td>\n",
       "      <td>-   -</td>\n",
       "      <td>2020-03-14T00:00:00.000</td>\n",
       "      <td>2020-03-24T00:00:00.000</td>\n",
       "      <td>2020-03-14T00:00:00.000</td>\n",
       "    </tr>\n",
       "    <tr>\n",
       "      <th>20</th>\n",
       "      <td>2020-03-11T00:00:00.000</td>\n",
       "      <td>5001</td>\n",
       "      <td>Medellín</td>\n",
       "      <td>Antioquia</td>\n",
       "      <td>Recuperado</td>\n",
       "      <td>26</td>\n",
       "      <td>F</td>\n",
       "      <td>Relacionado</td>\n",
       "      <td>Leve</td>\n",
       "      <td>Colombia</td>\n",
       "      <td>2020-03-09T00:00:00.000</td>\n",
       "      <td>-   -</td>\n",
       "      <td>2020-03-14T00:00:00.000</td>\n",
       "      <td>2020-03-24T00:00:00.000</td>\n",
       "      <td>2020-03-14T00:00:00.000</td>\n",
       "    </tr>\n",
       "    <tr>\n",
       "      <th>21</th>\n",
       "      <td>2020-03-11T00:00:00.000</td>\n",
       "      <td>5001</td>\n",
       "      <td>Medellín</td>\n",
       "      <td>Antioquia</td>\n",
       "      <td>Recuperado</td>\n",
       "      <td>28</td>\n",
       "      <td>M</td>\n",
       "      <td>Relacionado</td>\n",
       "      <td>Leve</td>\n",
       "      <td>Colombia</td>\n",
       "      <td>2020-03-10T00:00:00.000</td>\n",
       "      <td>-   -</td>\n",
       "      <td>2020-03-14T00:00:00.000</td>\n",
       "      <td>2020-04-10T00:00:00.000</td>\n",
       "      <td>2020-03-14T00:00:00.000</td>\n",
       "    </tr>\n",
       "    <tr>\n",
       "      <th>22</th>\n",
       "      <td>2020-03-12T00:00:00.000</td>\n",
       "      <td>5615</td>\n",
       "      <td>Rionegro</td>\n",
       "      <td>Antioquia</td>\n",
       "      <td>Recuperado</td>\n",
       "      <td>36</td>\n",
       "      <td>M</td>\n",
       "      <td>Importado</td>\n",
       "      <td>Leve</td>\n",
       "      <td>Estados Unidos de América</td>\n",
       "      <td>2020-03-09T00:00:00.000</td>\n",
       "      <td>-   -</td>\n",
       "      <td>2020-03-14T00:00:00.000</td>\n",
       "      <td>2020-03-24T00:00:00.000</td>\n",
       "      <td>2020-03-14T00:00:00.000</td>\n",
       "    </tr>\n",
       "    <tr>\n",
       "      <th>23</th>\n",
       "      <td>2020-03-12T00:00:00.000</td>\n",
       "      <td>11001</td>\n",
       "      <td>Bogotá D.C.</td>\n",
       "      <td>Bogotá D.C.</td>\n",
       "      <td>Recuperado</td>\n",
       "      <td>23</td>\n",
       "      <td>M</td>\n",
       "      <td>Relacionado</td>\n",
       "      <td>Leve</td>\n",
       "      <td>Colombia</td>\n",
       "      <td>2020-03-08T00:00:00.000</td>\n",
       "      <td>-   -</td>\n",
       "      <td>2020-03-14T00:00:00.000</td>\n",
       "      <td>2020-03-23T00:00:00.000</td>\n",
       "      <td>2020-03-14T00:00:00.000</td>\n",
       "    </tr>\n",
       "    <tr>\n",
       "      <th>24</th>\n",
       "      <td>2020-03-12T00:00:00.000</td>\n",
       "      <td>11001</td>\n",
       "      <td>Bogotá D.C.</td>\n",
       "      <td>Bogotá D.C.</td>\n",
       "      <td>Recuperado</td>\n",
       "      <td>18</td>\n",
       "      <td>F</td>\n",
       "      <td>Importado</td>\n",
       "      <td>Leve</td>\n",
       "      <td>España</td>\n",
       "      <td>2020-03-12T00:00:00.000</td>\n",
       "      <td>-   -</td>\n",
       "      <td>2020-03-14T00:00:00.000</td>\n",
       "      <td>2020-03-27T00:00:00.000</td>\n",
       "      <td>2020-03-14T00:00:00.000</td>\n",
       "    </tr>\n",
       "    <tr>\n",
       "      <th>25</th>\n",
       "      <td>2020-03-13T00:00:00.000</td>\n",
       "      <td>76001</td>\n",
       "      <td>Cali</td>\n",
       "      <td>Valle del Cauca</td>\n",
       "      <td>Casa</td>\n",
       "      <td>49</td>\n",
       "      <td>M</td>\n",
       "      <td>Importado</td>\n",
       "      <td>Leve</td>\n",
       "      <td>España</td>\n",
       "      <td>2020-03-10T00:00:00.000</td>\n",
       "      <td>-   -</td>\n",
       "      <td>2020-03-13T00:00:00.000</td>\n",
       "      <td>-   -</td>\n",
       "      <td>2020-03-13T00:00:00.000</td>\n",
       "    </tr>\n",
       "    <tr>\n",
       "      <th>26</th>\n",
       "      <td>2020-03-15T00:00:00.000</td>\n",
       "      <td>13001</td>\n",
       "      <td>Cartagena de Indias</td>\n",
       "      <td>Cartagena D.T. y C.</td>\n",
       "      <td>Recuperado</td>\n",
       "      <td>30</td>\n",
       "      <td>F</td>\n",
       "      <td>Relacionado</td>\n",
       "      <td>Asintomático</td>\n",
       "      <td>Colombia</td>\n",
       "      <td>Asintomático</td>\n",
       "      <td>-   -</td>\n",
       "      <td>2020-03-15T00:00:00.000</td>\n",
       "      <td>2020-03-25T00:00:00.000</td>\n",
       "      <td>2020-03-15T00:00:00.000</td>\n",
       "    </tr>\n",
       "    <tr>\n",
       "      <th>27</th>\n",
       "      <td>2020-03-15T00:00:00.000</td>\n",
       "      <td>13001</td>\n",
       "      <td>Cartagena de Indias</td>\n",
       "      <td>Cartagena D.T. y C.</td>\n",
       "      <td>Recuperado</td>\n",
       "      <td>30</td>\n",
       "      <td>F</td>\n",
       "      <td>Relacionado</td>\n",
       "      <td>Asintomático</td>\n",
       "      <td>Colombia</td>\n",
       "      <td>Asintomático</td>\n",
       "      <td>-   -</td>\n",
       "      <td>2020-03-15T00:00:00.000</td>\n",
       "      <td>2020-03-25T00:00:00.000</td>\n",
       "      <td>2020-03-15T00:00:00.000</td>\n",
       "    </tr>\n",
       "    <tr>\n",
       "      <th>28</th>\n",
       "      <td>2020-03-12T00:00:00.000</td>\n",
       "      <td>66170</td>\n",
       "      <td>Dosquebradas</td>\n",
       "      <td>Risaralda</td>\n",
       "      <td>Recuperado</td>\n",
       "      <td>22</td>\n",
       "      <td>M</td>\n",
       "      <td>Importado</td>\n",
       "      <td>Leve</td>\n",
       "      <td>Estados Unidos de América</td>\n",
       "      <td>2020-03-10T00:00:00.000</td>\n",
       "      <td>-   -</td>\n",
       "      <td>2020-03-14T00:00:00.000</td>\n",
       "      <td>2020-04-08T00:00:00.000</td>\n",
       "      <td>2020-03-14T00:00:00.000</td>\n",
       "    </tr>\n",
       "    <tr>\n",
       "      <th>29</th>\n",
       "      <td>2020-03-12T00:00:00.000</td>\n",
       "      <td>41001</td>\n",
       "      <td>Neiva</td>\n",
       "      <td>Huila</td>\n",
       "      <td>Recuperado</td>\n",
       "      <td>55</td>\n",
       "      <td>F</td>\n",
       "      <td>Relacionado</td>\n",
       "      <td>Leve</td>\n",
       "      <td>Colombia</td>\n",
       "      <td>2020-03-10T00:00:00.000</td>\n",
       "      <td>-   -</td>\n",
       "      <td>2020-03-12T00:00:00.000</td>\n",
       "      <td>2020-03-25T00:00:00.000</td>\n",
       "      <td>2020-03-12T00:00:00.000</td>\n",
       "    </tr>\n",
       "    <tr>\n",
       "      <th>30</th>\n",
       "      <td>2020-03-13T00:00:00.000</td>\n",
       "      <td>54001</td>\n",
       "      <td>Cúcuta</td>\n",
       "      <td>Norte de Santander</td>\n",
       "      <td>Recuperado</td>\n",
       "      <td>48</td>\n",
       "      <td>F</td>\n",
       "      <td>Importado</td>\n",
       "      <td>Leve</td>\n",
       "      <td>España</td>\n",
       "      <td>2020-03-11T00:00:00.000</td>\n",
       "      <td>-   -</td>\n",
       "      <td>2020-03-15T00:00:00.000</td>\n",
       "      <td>2020-03-25T00:00:00.000</td>\n",
       "      <td>2020-03-15T00:00:00.000</td>\n",
       "    </tr>\n",
       "    <tr>\n",
       "      <th>...</th>\n",
       "      <td>...</td>\n",
       "      <td>...</td>\n",
       "      <td>...</td>\n",
       "      <td>...</td>\n",
       "      <td>...</td>\n",
       "      <td>...</td>\n",
       "      <td>...</td>\n",
       "      <td>...</td>\n",
       "      <td>...</td>\n",
       "      <td>...</td>\n",
       "      <td>...</td>\n",
       "      <td>...</td>\n",
       "      <td>...</td>\n",
       "      <td>...</td>\n",
       "      <td>...</td>\n",
       "    </tr>\n",
       "    <tr>\n",
       "      <th>10506</th>\n",
       "      <td>2020-05-04T00:00:00.000</td>\n",
       "      <td>11001</td>\n",
       "      <td>Bogotá D.C.</td>\n",
       "      <td>Bogotá D.C.</td>\n",
       "      <td>Fallecido</td>\n",
       "      <td>89</td>\n",
       "      <td>F</td>\n",
       "      <td>En estudio</td>\n",
       "      <td>Fallecido</td>\n",
       "      <td>Colombia</td>\n",
       "      <td>2020-05-03T00:00:00.000</td>\n",
       "      <td>2020-05-08T00:00:00.000</td>\n",
       "      <td>2020-05-09T00:00:00.000</td>\n",
       "      <td>-   -</td>\n",
       "      <td>2020-05-09T00:00:00.000</td>\n",
       "    </tr>\n",
       "    <tr>\n",
       "      <th>10507</th>\n",
       "      <td>2020-05-04T00:00:00.000</td>\n",
       "      <td>11001</td>\n",
       "      <td>Bogotá D.C.</td>\n",
       "      <td>Bogotá D.C.</td>\n",
       "      <td>Hospital</td>\n",
       "      <td>37</td>\n",
       "      <td>M</td>\n",
       "      <td>En estudio</td>\n",
       "      <td>Moderado</td>\n",
       "      <td>Colombia</td>\n",
       "      <td>2020-04-29T00:00:00.000</td>\n",
       "      <td>-   -</td>\n",
       "      <td>2020-05-09T00:00:00.000</td>\n",
       "      <td>-   -</td>\n",
       "      <td>2020-05-09T00:00:00.000</td>\n",
       "    </tr>\n",
       "    <tr>\n",
       "      <th>10508</th>\n",
       "      <td>2020-05-04T00:00:00.000</td>\n",
       "      <td>11001</td>\n",
       "      <td>Bogotá D.C.</td>\n",
       "      <td>Bogotá D.C.</td>\n",
       "      <td>Casa</td>\n",
       "      <td>21</td>\n",
       "      <td>F</td>\n",
       "      <td>En estudio</td>\n",
       "      <td>Leve</td>\n",
       "      <td>Colombia</td>\n",
       "      <td>2020-05-04T00:00:00.000</td>\n",
       "      <td>-   -</td>\n",
       "      <td>2020-05-09T00:00:00.000</td>\n",
       "      <td>-   -</td>\n",
       "      <td>2020-05-09T00:00:00.000</td>\n",
       "    </tr>\n",
       "    <tr>\n",
       "      <th>10509</th>\n",
       "      <td>2020-05-04T00:00:00.000</td>\n",
       "      <td>11001</td>\n",
       "      <td>Bogotá D.C.</td>\n",
       "      <td>Bogotá D.C.</td>\n",
       "      <td>Casa</td>\n",
       "      <td>68</td>\n",
       "      <td>M</td>\n",
       "      <td>En estudio</td>\n",
       "      <td>Leve</td>\n",
       "      <td>Colombia</td>\n",
       "      <td>2020-04-27T00:00:00.000</td>\n",
       "      <td>-   -</td>\n",
       "      <td>2020-05-09T00:00:00.000</td>\n",
       "      <td>-   -</td>\n",
       "      <td>2020-05-09T00:00:00.000</td>\n",
       "    </tr>\n",
       "    <tr>\n",
       "      <th>10510</th>\n",
       "      <td>2020-05-05T00:00:00.000</td>\n",
       "      <td>11001</td>\n",
       "      <td>Bogotá D.C.</td>\n",
       "      <td>Bogotá D.C.</td>\n",
       "      <td>Casa</td>\n",
       "      <td>66</td>\n",
       "      <td>F</td>\n",
       "      <td>En estudio</td>\n",
       "      <td>Leve</td>\n",
       "      <td>Colombia</td>\n",
       "      <td>2020-04-27T00:00:00.000</td>\n",
       "      <td>-   -</td>\n",
       "      <td>2020-05-09T00:00:00.000</td>\n",
       "      <td>-   -</td>\n",
       "      <td>2020-05-09T00:00:00.000</td>\n",
       "    </tr>\n",
       "    <tr>\n",
       "      <th>10511</th>\n",
       "      <td>2020-05-04T00:00:00.000</td>\n",
       "      <td>11001</td>\n",
       "      <td>Bogotá D.C.</td>\n",
       "      <td>Bogotá D.C.</td>\n",
       "      <td>Casa</td>\n",
       "      <td>42</td>\n",
       "      <td>M</td>\n",
       "      <td>En estudio</td>\n",
       "      <td>Leve</td>\n",
       "      <td>Colombia</td>\n",
       "      <td>2020-05-04T00:00:00.000</td>\n",
       "      <td>-   -</td>\n",
       "      <td>2020-05-09T00:00:00.000</td>\n",
       "      <td>-   -</td>\n",
       "      <td>2020-05-09T00:00:00.000</td>\n",
       "    </tr>\n",
       "    <tr>\n",
       "      <th>10512</th>\n",
       "      <td>2020-05-05T00:00:00.000</td>\n",
       "      <td>11001</td>\n",
       "      <td>Bogotá D.C.</td>\n",
       "      <td>Bogotá D.C.</td>\n",
       "      <td>Casa</td>\n",
       "      <td>16</td>\n",
       "      <td>F</td>\n",
       "      <td>En estudio</td>\n",
       "      <td>Leve</td>\n",
       "      <td>Colombia</td>\n",
       "      <td>2020-05-05T00:00:00.000</td>\n",
       "      <td>-   -</td>\n",
       "      <td>2020-05-09T00:00:00.000</td>\n",
       "      <td>-   -</td>\n",
       "      <td>2020-05-09T00:00:00.000</td>\n",
       "    </tr>\n",
       "    <tr>\n",
       "      <th>10513</th>\n",
       "      <td>2020-05-05T00:00:00.000</td>\n",
       "      <td>11001</td>\n",
       "      <td>Bogotá D.C.</td>\n",
       "      <td>Bogotá D.C.</td>\n",
       "      <td>Casa</td>\n",
       "      <td>26</td>\n",
       "      <td>F</td>\n",
       "      <td>En estudio</td>\n",
       "      <td>Leve</td>\n",
       "      <td>Colombia</td>\n",
       "      <td>2020-05-05T00:00:00.000</td>\n",
       "      <td>-   -</td>\n",
       "      <td>2020-05-09T00:00:00.000</td>\n",
       "      <td>-   -</td>\n",
       "      <td>2020-05-09T00:00:00.000</td>\n",
       "    </tr>\n",
       "    <tr>\n",
       "      <th>10514</th>\n",
       "      <td>2020-05-05T00:00:00.000</td>\n",
       "      <td>11001</td>\n",
       "      <td>Bogotá D.C.</td>\n",
       "      <td>Bogotá D.C.</td>\n",
       "      <td>Casa</td>\n",
       "      <td>24</td>\n",
       "      <td>F</td>\n",
       "      <td>En estudio</td>\n",
       "      <td>Leve</td>\n",
       "      <td>Colombia</td>\n",
       "      <td>2020-05-02T00:00:00.000</td>\n",
       "      <td>-   -</td>\n",
       "      <td>2020-05-09T00:00:00.000</td>\n",
       "      <td>-   -</td>\n",
       "      <td>2020-05-09T00:00:00.000</td>\n",
       "    </tr>\n",
       "    <tr>\n",
       "      <th>10515</th>\n",
       "      <td>2020-05-05T00:00:00.000</td>\n",
       "      <td>11001</td>\n",
       "      <td>Bogotá D.C.</td>\n",
       "      <td>Bogotá D.C.</td>\n",
       "      <td>Casa</td>\n",
       "      <td>21</td>\n",
       "      <td>F</td>\n",
       "      <td>En estudio</td>\n",
       "      <td>Leve</td>\n",
       "      <td>Colombia</td>\n",
       "      <td>2020-05-05T00:00:00.000</td>\n",
       "      <td>-   -</td>\n",
       "      <td>2020-05-09T00:00:00.000</td>\n",
       "      <td>-   -</td>\n",
       "      <td>2020-05-09T00:00:00.000</td>\n",
       "    </tr>\n",
       "    <tr>\n",
       "      <th>10516</th>\n",
       "      <td>2020-05-05T00:00:00.000</td>\n",
       "      <td>11001</td>\n",
       "      <td>Bogotá D.C.</td>\n",
       "      <td>Bogotá D.C.</td>\n",
       "      <td>Casa</td>\n",
       "      <td>42</td>\n",
       "      <td>F</td>\n",
       "      <td>En estudio</td>\n",
       "      <td>Leve</td>\n",
       "      <td>Colombia</td>\n",
       "      <td>2020-05-05T00:00:00.000</td>\n",
       "      <td>-   -</td>\n",
       "      <td>2020-05-09T00:00:00.000</td>\n",
       "      <td>-   -</td>\n",
       "      <td>2020-05-09T00:00:00.000</td>\n",
       "    </tr>\n",
       "    <tr>\n",
       "      <th>10517</th>\n",
       "      <td>2020-05-05T00:00:00.000</td>\n",
       "      <td>11001</td>\n",
       "      <td>Bogotá D.C.</td>\n",
       "      <td>Bogotá D.C.</td>\n",
       "      <td>Casa</td>\n",
       "      <td>52</td>\n",
       "      <td>F</td>\n",
       "      <td>En estudio</td>\n",
       "      <td>Leve</td>\n",
       "      <td>Colombia</td>\n",
       "      <td>2020-05-01T00:00:00.000</td>\n",
       "      <td>-   -</td>\n",
       "      <td>2020-05-09T00:00:00.000</td>\n",
       "      <td>-   -</td>\n",
       "      <td>2020-05-09T00:00:00.000</td>\n",
       "    </tr>\n",
       "    <tr>\n",
       "      <th>10518</th>\n",
       "      <td>2020-05-05T00:00:00.000</td>\n",
       "      <td>11001</td>\n",
       "      <td>Bogotá D.C.</td>\n",
       "      <td>Bogotá D.C.</td>\n",
       "      <td>Casa</td>\n",
       "      <td>45</td>\n",
       "      <td>F</td>\n",
       "      <td>En estudio</td>\n",
       "      <td>Leve</td>\n",
       "      <td>Colombia</td>\n",
       "      <td>2020-04-26T00:00:00.000</td>\n",
       "      <td>-   -</td>\n",
       "      <td>2020-05-09T00:00:00.000</td>\n",
       "      <td>-   -</td>\n",
       "      <td>2020-05-09T00:00:00.000</td>\n",
       "    </tr>\n",
       "    <tr>\n",
       "      <th>10519</th>\n",
       "      <td>2020-05-05T00:00:00.000</td>\n",
       "      <td>11001</td>\n",
       "      <td>Bogotá D.C.</td>\n",
       "      <td>Bogotá D.C.</td>\n",
       "      <td>Casa</td>\n",
       "      <td>48</td>\n",
       "      <td>F</td>\n",
       "      <td>En estudio</td>\n",
       "      <td>Leve</td>\n",
       "      <td>Colombia</td>\n",
       "      <td>2020-04-28T00:00:00.000</td>\n",
       "      <td>-   -</td>\n",
       "      <td>2020-05-09T00:00:00.000</td>\n",
       "      <td>-   -</td>\n",
       "      <td>2020-05-09T00:00:00.000</td>\n",
       "    </tr>\n",
       "    <tr>\n",
       "      <th>10520</th>\n",
       "      <td>2020-05-05T00:00:00.000</td>\n",
       "      <td>11001</td>\n",
       "      <td>Bogotá D.C.</td>\n",
       "      <td>Bogotá D.C.</td>\n",
       "      <td>Casa</td>\n",
       "      <td>51</td>\n",
       "      <td>M</td>\n",
       "      <td>En estudio</td>\n",
       "      <td>Leve</td>\n",
       "      <td>Colombia</td>\n",
       "      <td>2020-04-25T00:00:00.000</td>\n",
       "      <td>-   -</td>\n",
       "      <td>2020-05-09T00:00:00.000</td>\n",
       "      <td>-   -</td>\n",
       "      <td>2020-05-09T00:00:00.000</td>\n",
       "    </tr>\n",
       "    <tr>\n",
       "      <th>10521</th>\n",
       "      <td>2020-05-05T00:00:00.000</td>\n",
       "      <td>11001</td>\n",
       "      <td>Bogotá D.C.</td>\n",
       "      <td>Bogotá D.C.</td>\n",
       "      <td>Casa</td>\n",
       "      <td>49</td>\n",
       "      <td>M</td>\n",
       "      <td>En estudio</td>\n",
       "      <td>Leve</td>\n",
       "      <td>Colombia</td>\n",
       "      <td>2020-05-02T00:00:00.000</td>\n",
       "      <td>-   -</td>\n",
       "      <td>2020-05-09T00:00:00.000</td>\n",
       "      <td>-   -</td>\n",
       "      <td>2020-05-09T00:00:00.000</td>\n",
       "    </tr>\n",
       "    <tr>\n",
       "      <th>10522</th>\n",
       "      <td>2020-05-05T00:00:00.000</td>\n",
       "      <td>11001</td>\n",
       "      <td>Bogotá D.C.</td>\n",
       "      <td>Bogotá D.C.</td>\n",
       "      <td>Casa</td>\n",
       "      <td>56</td>\n",
       "      <td>F</td>\n",
       "      <td>En estudio</td>\n",
       "      <td>Leve</td>\n",
       "      <td>Colombia</td>\n",
       "      <td>2020-05-04T00:00:00.000</td>\n",
       "      <td>-   -</td>\n",
       "      <td>2020-05-09T00:00:00.000</td>\n",
       "      <td>-   -</td>\n",
       "      <td>2020-05-09T00:00:00.000</td>\n",
       "    </tr>\n",
       "    <tr>\n",
       "      <th>10523</th>\n",
       "      <td>2020-05-05T00:00:00.000</td>\n",
       "      <td>11001</td>\n",
       "      <td>Bogotá D.C.</td>\n",
       "      <td>Bogotá D.C.</td>\n",
       "      <td>Casa</td>\n",
       "      <td>17</td>\n",
       "      <td>F</td>\n",
       "      <td>En estudio</td>\n",
       "      <td>Leve</td>\n",
       "      <td>Colombia</td>\n",
       "      <td>2020-05-03T00:00:00.000</td>\n",
       "      <td>-   -</td>\n",
       "      <td>2020-05-09T00:00:00.000</td>\n",
       "      <td>-   -</td>\n",
       "      <td>2020-05-09T00:00:00.000</td>\n",
       "    </tr>\n",
       "    <tr>\n",
       "      <th>10524</th>\n",
       "      <td>2020-05-05T00:00:00.000</td>\n",
       "      <td>11001</td>\n",
       "      <td>Bogotá D.C.</td>\n",
       "      <td>Bogotá D.C.</td>\n",
       "      <td>Casa</td>\n",
       "      <td>49</td>\n",
       "      <td>M</td>\n",
       "      <td>En estudio</td>\n",
       "      <td>Leve</td>\n",
       "      <td>Colombia</td>\n",
       "      <td>2020-04-29T00:00:00.000</td>\n",
       "      <td>-   -</td>\n",
       "      <td>2020-05-09T00:00:00.000</td>\n",
       "      <td>-   -</td>\n",
       "      <td>2020-05-09T00:00:00.000</td>\n",
       "    </tr>\n",
       "    <tr>\n",
       "      <th>10525</th>\n",
       "      <td>2020-05-05T00:00:00.000</td>\n",
       "      <td>11001</td>\n",
       "      <td>Bogotá D.C.</td>\n",
       "      <td>Bogotá D.C.</td>\n",
       "      <td>Casa</td>\n",
       "      <td>26</td>\n",
       "      <td>M</td>\n",
       "      <td>En estudio</td>\n",
       "      <td>Leve</td>\n",
       "      <td>Colombia</td>\n",
       "      <td>2020-05-05T00:00:00.000</td>\n",
       "      <td>-   -</td>\n",
       "      <td>2020-05-09T00:00:00.000</td>\n",
       "      <td>-   -</td>\n",
       "      <td>2020-05-09T00:00:00.000</td>\n",
       "    </tr>\n",
       "    <tr>\n",
       "      <th>10526</th>\n",
       "      <td>2020-05-05T00:00:00.000</td>\n",
       "      <td>11001</td>\n",
       "      <td>Bogotá D.C.</td>\n",
       "      <td>Bogotá D.C.</td>\n",
       "      <td>Casa</td>\n",
       "      <td>79</td>\n",
       "      <td>F</td>\n",
       "      <td>En estudio</td>\n",
       "      <td>Leve</td>\n",
       "      <td>Colombia</td>\n",
       "      <td>2020-04-30T00:00:00.000</td>\n",
       "      <td>-   -</td>\n",
       "      <td>2020-05-09T00:00:00.000</td>\n",
       "      <td>-   -</td>\n",
       "      <td>2020-05-09T00:00:00.000</td>\n",
       "    </tr>\n",
       "    <tr>\n",
       "      <th>10527</th>\n",
       "      <td>2020-05-05T00:00:00.000</td>\n",
       "      <td>11001</td>\n",
       "      <td>Bogotá D.C.</td>\n",
       "      <td>Bogotá D.C.</td>\n",
       "      <td>Casa</td>\n",
       "      <td>31</td>\n",
       "      <td>M</td>\n",
       "      <td>En estudio</td>\n",
       "      <td>Leve</td>\n",
       "      <td>Colombia</td>\n",
       "      <td>2020-04-30T00:00:00.000</td>\n",
       "      <td>-   -</td>\n",
       "      <td>2020-05-09T00:00:00.000</td>\n",
       "      <td>-   -</td>\n",
       "      <td>2020-05-09T00:00:00.000</td>\n",
       "    </tr>\n",
       "    <tr>\n",
       "      <th>10528</th>\n",
       "      <td>2020-05-05T00:00:00.000</td>\n",
       "      <td>11001</td>\n",
       "      <td>Bogotá D.C.</td>\n",
       "      <td>Bogotá D.C.</td>\n",
       "      <td>Casa</td>\n",
       "      <td>32</td>\n",
       "      <td>F</td>\n",
       "      <td>En estudio</td>\n",
       "      <td>Leve</td>\n",
       "      <td>Colombia</td>\n",
       "      <td>2020-05-05T00:00:00.000</td>\n",
       "      <td>-   -</td>\n",
       "      <td>2020-05-09T00:00:00.000</td>\n",
       "      <td>-   -</td>\n",
       "      <td>2020-05-09T00:00:00.000</td>\n",
       "    </tr>\n",
       "    <tr>\n",
       "      <th>10529</th>\n",
       "      <td>2020-05-05T00:00:00.000</td>\n",
       "      <td>11001</td>\n",
       "      <td>Bogotá D.C.</td>\n",
       "      <td>Bogotá D.C.</td>\n",
       "      <td>Casa</td>\n",
       "      <td>63</td>\n",
       "      <td>M</td>\n",
       "      <td>En estudio</td>\n",
       "      <td>Leve</td>\n",
       "      <td>Colombia</td>\n",
       "      <td>2020-05-04T00:00:00.000</td>\n",
       "      <td>-   -</td>\n",
       "      <td>2020-05-09T00:00:00.000</td>\n",
       "      <td>-   -</td>\n",
       "      <td>2020-05-09T00:00:00.000</td>\n",
       "    </tr>\n",
       "    <tr>\n",
       "      <th>10530</th>\n",
       "      <td>2020-05-06T00:00:00.000</td>\n",
       "      <td>11001</td>\n",
       "      <td>Bogotá D.C.</td>\n",
       "      <td>Bogotá D.C.</td>\n",
       "      <td>Casa</td>\n",
       "      <td>38</td>\n",
       "      <td>M</td>\n",
       "      <td>En estudio</td>\n",
       "      <td>Leve</td>\n",
       "      <td>Colombia</td>\n",
       "      <td>2020-05-06T00:00:00.000</td>\n",
       "      <td>-   -</td>\n",
       "      <td>2020-05-09T00:00:00.000</td>\n",
       "      <td>-   -</td>\n",
       "      <td>2020-05-09T00:00:00.000</td>\n",
       "    </tr>\n",
       "    <tr>\n",
       "      <th>10531</th>\n",
       "      <td>2020-05-07T00:00:00.000</td>\n",
       "      <td>11001</td>\n",
       "      <td>Bogotá D.C.</td>\n",
       "      <td>Bogotá D.C.</td>\n",
       "      <td>Casa</td>\n",
       "      <td>21</td>\n",
       "      <td>M</td>\n",
       "      <td>En estudio</td>\n",
       "      <td>Leve</td>\n",
       "      <td>Colombia</td>\n",
       "      <td>2020-05-03T00:00:00.000</td>\n",
       "      <td>-   -</td>\n",
       "      <td>2020-05-09T00:00:00.000</td>\n",
       "      <td>-   -</td>\n",
       "      <td>2020-05-09T00:00:00.000</td>\n",
       "    </tr>\n",
       "    <tr>\n",
       "      <th>10532</th>\n",
       "      <td>2020-05-07T00:00:00.000</td>\n",
       "      <td>11001</td>\n",
       "      <td>Bogotá D.C.</td>\n",
       "      <td>Bogotá D.C.</td>\n",
       "      <td>Casa</td>\n",
       "      <td>29</td>\n",
       "      <td>M</td>\n",
       "      <td>En estudio</td>\n",
       "      <td>Leve</td>\n",
       "      <td>Colombia</td>\n",
       "      <td>2020-05-03T00:00:00.000</td>\n",
       "      <td>-   -</td>\n",
       "      <td>2020-05-09T00:00:00.000</td>\n",
       "      <td>-   -</td>\n",
       "      <td>2020-05-09T00:00:00.000</td>\n",
       "    </tr>\n",
       "    <tr>\n",
       "      <th>10533</th>\n",
       "      <td>2020-05-07T00:00:00.000</td>\n",
       "      <td>11001</td>\n",
       "      <td>Bogotá D.C.</td>\n",
       "      <td>Bogotá D.C.</td>\n",
       "      <td>Casa</td>\n",
       "      <td>36</td>\n",
       "      <td>F</td>\n",
       "      <td>Relacionado</td>\n",
       "      <td>Leve</td>\n",
       "      <td>Colombia</td>\n",
       "      <td>2020-05-04T00:00:00.000</td>\n",
       "      <td>-   -</td>\n",
       "      <td>2020-05-09T00:00:00.000</td>\n",
       "      <td>-   -</td>\n",
       "      <td>2020-05-09T00:00:00.000</td>\n",
       "    </tr>\n",
       "    <tr>\n",
       "      <th>10534</th>\n",
       "      <td>2020-04-26T00:00:00.000</td>\n",
       "      <td>91001</td>\n",
       "      <td>Leticia</td>\n",
       "      <td>Amazonas</td>\n",
       "      <td>Fallecido</td>\n",
       "      <td>64</td>\n",
       "      <td>M</td>\n",
       "      <td>En estudio</td>\n",
       "      <td>Fallecido</td>\n",
       "      <td>Colombia</td>\n",
       "      <td>2020-04-26T00:00:00.000</td>\n",
       "      <td>2020-05-07T00:00:00.000</td>\n",
       "      <td>2020-05-09T00:00:00.000</td>\n",
       "      <td>-   -</td>\n",
       "      <td>2020-05-09T00:00:00.000</td>\n",
       "    </tr>\n",
       "    <tr>\n",
       "      <th>10535</th>\n",
       "      <td>2020-04-28T00:00:00.000</td>\n",
       "      <td>91001</td>\n",
       "      <td>Leticia</td>\n",
       "      <td>Amazonas</td>\n",
       "      <td>Fallecido</td>\n",
       "      <td>79</td>\n",
       "      <td>M</td>\n",
       "      <td>Relacionado</td>\n",
       "      <td>Fallecido</td>\n",
       "      <td>Colombia</td>\n",
       "      <td>2020-04-26T00:00:00.000</td>\n",
       "      <td>2020-04-29T00:00:00.000</td>\n",
       "      <td>2020-05-09T00:00:00.000</td>\n",
       "      <td>-   -</td>\n",
       "      <td>2020-05-09T00:00:00.000</td>\n",
       "    </tr>\n",
       "  </tbody>\n",
       "</table>\n",
       "<p>10495 rows × 15 columns</p>\n",
       "</div>"
      ],
      "text/plain": [
       "              Fecha de notificación  Codigo DIVIPOLA  Ciudad de ubicación  \\\n",
       "ID de caso                                                                  \n",
       "1           2020-03-02T00:00:00.000            11001          Bogotá D.C.   \n",
       "2           2020-03-06T00:00:00.000            76111  Guadalajara de Buga   \n",
       "3           2020-03-07T00:00:00.000             5001             Medellín   \n",
       "4           2020-03-09T00:00:00.000             5001             Medellín   \n",
       "5           2020-03-09T00:00:00.000             5001             Medellín   \n",
       "6           2020-03-10T00:00:00.000             5360               Itagüí   \n",
       "7           2020-03-08T00:00:00.000            13001  Cartagena de Indias   \n",
       "8           2020-03-09T00:00:00.000            11001          Bogotá D.C.   \n",
       "9           2020-03-08T00:00:00.000            11001          Bogotá D.C.   \n",
       "10          2020-03-12T00:00:00.000            11001          Bogotá D.C.   \n",
       "11          2020-03-11T00:00:00.000            11001          Bogotá D.C.   \n",
       "12          2020-03-10T00:00:00.000            41001                Neiva   \n",
       "13          2020-03-10T00:00:00.000            41001                Neiva   \n",
       "14          2020-03-10T00:00:00.000            76520              Palmira   \n",
       "15          2020-03-13T00:00:00.000            50001        Villavicencio   \n",
       "16          2020-03-11T00:00:00.000            11001          Bogotá D.C.   \n",
       "17          2020-03-11T00:00:00.000            11001          Bogotá D.C.   \n",
       "18          2020-03-11T00:00:00.000            11001          Bogotá D.C.   \n",
       "19          2020-03-12T00:00:00.000            11001          Bogotá D.C.   \n",
       "20          2020-03-11T00:00:00.000             5001             Medellín   \n",
       "21          2020-03-11T00:00:00.000             5001             Medellín   \n",
       "22          2020-03-12T00:00:00.000             5615             Rionegro   \n",
       "23          2020-03-12T00:00:00.000            11001          Bogotá D.C.   \n",
       "24          2020-03-12T00:00:00.000            11001          Bogotá D.C.   \n",
       "25          2020-03-13T00:00:00.000            76001                 Cali   \n",
       "26          2020-03-15T00:00:00.000            13001  Cartagena de Indias   \n",
       "27          2020-03-15T00:00:00.000            13001  Cartagena de Indias   \n",
       "28          2020-03-12T00:00:00.000            66170         Dosquebradas   \n",
       "29          2020-03-12T00:00:00.000            41001                Neiva   \n",
       "30          2020-03-13T00:00:00.000            54001               Cúcuta   \n",
       "...                             ...              ...                  ...   \n",
       "10506       2020-05-04T00:00:00.000            11001          Bogotá D.C.   \n",
       "10507       2020-05-04T00:00:00.000            11001          Bogotá D.C.   \n",
       "10508       2020-05-04T00:00:00.000            11001          Bogotá D.C.   \n",
       "10509       2020-05-04T00:00:00.000            11001          Bogotá D.C.   \n",
       "10510       2020-05-05T00:00:00.000            11001          Bogotá D.C.   \n",
       "10511       2020-05-04T00:00:00.000            11001          Bogotá D.C.   \n",
       "10512       2020-05-05T00:00:00.000            11001          Bogotá D.C.   \n",
       "10513       2020-05-05T00:00:00.000            11001          Bogotá D.C.   \n",
       "10514       2020-05-05T00:00:00.000            11001          Bogotá D.C.   \n",
       "10515       2020-05-05T00:00:00.000            11001          Bogotá D.C.   \n",
       "10516       2020-05-05T00:00:00.000            11001          Bogotá D.C.   \n",
       "10517       2020-05-05T00:00:00.000            11001          Bogotá D.C.   \n",
       "10518       2020-05-05T00:00:00.000            11001          Bogotá D.C.   \n",
       "10519       2020-05-05T00:00:00.000            11001          Bogotá D.C.   \n",
       "10520       2020-05-05T00:00:00.000            11001          Bogotá D.C.   \n",
       "10521       2020-05-05T00:00:00.000            11001          Bogotá D.C.   \n",
       "10522       2020-05-05T00:00:00.000            11001          Bogotá D.C.   \n",
       "10523       2020-05-05T00:00:00.000            11001          Bogotá D.C.   \n",
       "10524       2020-05-05T00:00:00.000            11001          Bogotá D.C.   \n",
       "10525       2020-05-05T00:00:00.000            11001          Bogotá D.C.   \n",
       "10526       2020-05-05T00:00:00.000            11001          Bogotá D.C.   \n",
       "10527       2020-05-05T00:00:00.000            11001          Bogotá D.C.   \n",
       "10528       2020-05-05T00:00:00.000            11001          Bogotá D.C.   \n",
       "10529       2020-05-05T00:00:00.000            11001          Bogotá D.C.   \n",
       "10530       2020-05-06T00:00:00.000            11001          Bogotá D.C.   \n",
       "10531       2020-05-07T00:00:00.000            11001          Bogotá D.C.   \n",
       "10532       2020-05-07T00:00:00.000            11001          Bogotá D.C.   \n",
       "10533       2020-05-07T00:00:00.000            11001          Bogotá D.C.   \n",
       "10534       2020-04-26T00:00:00.000            91001              Leticia   \n",
       "10535       2020-04-28T00:00:00.000            91001              Leticia   \n",
       "\n",
       "           Departamento o Distrito     atención  Edad Sexo         Tipo  \\\n",
       "ID de caso                                                                \n",
       "1                       Bogotá D.C.  Recuperado    19    F    Importado   \n",
       "2                   Valle del Cauca  Recuperado    34    M    Importado   \n",
       "3                         Antioquia  Recuperado    50    F    Importado   \n",
       "4                         Antioquia  Recuperado    55    M  Relacionado   \n",
       "5                         Antioquia  Recuperado    25    M  Relacionado   \n",
       "6                         Antioquia  Recuperado    27    F  Relacionado   \n",
       "7               Cartagena D.T. y C.  Recuperado    85    F    Importado   \n",
       "8                       Bogotá D.C.  Recuperado    22    F    Importado   \n",
       "9                       Bogotá D.C.  Recuperado    28    F    Importado   \n",
       "10                      Bogotá D.C.  Recuperado    36    F    Importado   \n",
       "11                      Bogotá D.C.  Recuperado    42    F    Importado   \n",
       "12                            Huila  Recuperado    74    F    Importado   \n",
       "13                            Huila  Recuperado    68    F  Relacionado   \n",
       "14                  Valle del Cauca  Recuperado    48    M    Importado   \n",
       "15                             Meta  Recuperado    30    F    Importado   \n",
       "16                      Bogotá D.C.  Recuperado    61    F    Importado   \n",
       "17                      Bogotá D.C.  Recuperado    73    F    Importado   \n",
       "18                      Bogotá D.C.  Recuperado    54    M    Importado   \n",
       "19                      Bogotá D.C.  Recuperado    54    F  Relacionado   \n",
       "20                        Antioquia  Recuperado    26    F  Relacionado   \n",
       "21                        Antioquia  Recuperado    28    M  Relacionado   \n",
       "22                        Antioquia  Recuperado    36    M    Importado   \n",
       "23                      Bogotá D.C.  Recuperado    23    M  Relacionado   \n",
       "24                      Bogotá D.C.  Recuperado    18    F    Importado   \n",
       "25                  Valle del Cauca        Casa    49    M    Importado   \n",
       "26              Cartagena D.T. y C.  Recuperado    30    F  Relacionado   \n",
       "27              Cartagena D.T. y C.  Recuperado    30    F  Relacionado   \n",
       "28                        Risaralda  Recuperado    22    M    Importado   \n",
       "29                            Huila  Recuperado    55    F  Relacionado   \n",
       "30               Norte de Santander  Recuperado    48    F    Importado   \n",
       "...                             ...         ...   ...  ...          ...   \n",
       "10506                   Bogotá D.C.   Fallecido    89    F   En estudio   \n",
       "10507                   Bogotá D.C.    Hospital    37    M   En estudio   \n",
       "10508                   Bogotá D.C.        Casa    21    F   En estudio   \n",
       "10509                   Bogotá D.C.        Casa    68    M   En estudio   \n",
       "10510                   Bogotá D.C.        Casa    66    F   En estudio   \n",
       "10511                   Bogotá D.C.        Casa    42    M   En estudio   \n",
       "10512                   Bogotá D.C.        Casa    16    F   En estudio   \n",
       "10513                   Bogotá D.C.        Casa    26    F   En estudio   \n",
       "10514                   Bogotá D.C.        Casa    24    F   En estudio   \n",
       "10515                   Bogotá D.C.        Casa    21    F   En estudio   \n",
       "10516                   Bogotá D.C.        Casa    42    F   En estudio   \n",
       "10517                   Bogotá D.C.        Casa    52    F   En estudio   \n",
       "10518                   Bogotá D.C.        Casa    45    F   En estudio   \n",
       "10519                   Bogotá D.C.        Casa    48    F   En estudio   \n",
       "10520                   Bogotá D.C.        Casa    51    M   En estudio   \n",
       "10521                   Bogotá D.C.        Casa    49    M   En estudio   \n",
       "10522                   Bogotá D.C.        Casa    56    F   En estudio   \n",
       "10523                   Bogotá D.C.        Casa    17    F   En estudio   \n",
       "10524                   Bogotá D.C.        Casa    49    M   En estudio   \n",
       "10525                   Bogotá D.C.        Casa    26    M   En estudio   \n",
       "10526                   Bogotá D.C.        Casa    79    F   En estudio   \n",
       "10527                   Bogotá D.C.        Casa    31    M   En estudio   \n",
       "10528                   Bogotá D.C.        Casa    32    F   En estudio   \n",
       "10529                   Bogotá D.C.        Casa    63    M   En estudio   \n",
       "10530                   Bogotá D.C.        Casa    38    M   En estudio   \n",
       "10531                   Bogotá D.C.        Casa    21    M   En estudio   \n",
       "10532                   Bogotá D.C.        Casa    29    M   En estudio   \n",
       "10533                   Bogotá D.C.        Casa    36    F  Relacionado   \n",
       "10534                      Amazonas   Fallecido    64    M   En estudio   \n",
       "10535                      Amazonas   Fallecido    79    M  Relacionado   \n",
       "\n",
       "                  Estado        País de procedencia                      FIS  \\\n",
       "ID de caso                                                                     \n",
       "1                   Leve                     Italia  2020-02-27T00:00:00.000   \n",
       "2                   Leve                     España  2020-03-04T00:00:00.000   \n",
       "3                   Leve                     España  2020-02-29T00:00:00.000   \n",
       "4                   Leve                   Colombia  2020-03-06T00:00:00.000   \n",
       "5                   Leve                   Colombia  2020-03-08T00:00:00.000   \n",
       "6                   Leve                   Colombia  2020-03-06T00:00:00.000   \n",
       "7                   Leve  Estados Unidos de América  2020-03-02T00:00:00.000   \n",
       "8                   Leve                     España  2020-03-06T00:00:00.000   \n",
       "9                   Leve                     España  2020-03-07T00:00:00.000   \n",
       "10                  Leve                     España  2020-03-06T00:00:00.000   \n",
       "11                  Leve                     España  2020-03-06T00:00:00.000   \n",
       "12                  Leve                     Italia  2020-03-06T00:00:00.000   \n",
       "13                  Leve                   Colombia  2020-03-06T00:00:00.000   \n",
       "14                  Leve                     España  2020-03-07T00:00:00.000   \n",
       "15                  Leve                     España  2020-03-09T00:00:00.000   \n",
       "16                  Leve                     Italia  2020-03-08T00:00:00.000   \n",
       "17                  Leve                     España  2020-02-28T00:00:00.000   \n",
       "18                  Leve                     España  2020-03-07T00:00:00.000   \n",
       "19                  Leve                   Colombia  2020-03-09T00:00:00.000   \n",
       "20                  Leve                   Colombia  2020-03-09T00:00:00.000   \n",
       "21                  Leve                   Colombia  2020-03-10T00:00:00.000   \n",
       "22                  Leve  Estados Unidos de América  2020-03-09T00:00:00.000   \n",
       "23                  Leve                   Colombia  2020-03-08T00:00:00.000   \n",
       "24                  Leve                     España  2020-03-12T00:00:00.000   \n",
       "25                  Leve                     España  2020-03-10T00:00:00.000   \n",
       "26          Asintomático                   Colombia             Asintomático   \n",
       "27          Asintomático                   Colombia             Asintomático   \n",
       "28                  Leve  Estados Unidos de América  2020-03-10T00:00:00.000   \n",
       "29                  Leve                   Colombia  2020-03-10T00:00:00.000   \n",
       "30                  Leve                     España  2020-03-11T00:00:00.000   \n",
       "...                  ...                        ...                      ...   \n",
       "10506          Fallecido                   Colombia  2020-05-03T00:00:00.000   \n",
       "10507           Moderado                   Colombia  2020-04-29T00:00:00.000   \n",
       "10508               Leve                   Colombia  2020-05-04T00:00:00.000   \n",
       "10509               Leve                   Colombia  2020-04-27T00:00:00.000   \n",
       "10510               Leve                   Colombia  2020-04-27T00:00:00.000   \n",
       "10511               Leve                   Colombia  2020-05-04T00:00:00.000   \n",
       "10512               Leve                   Colombia  2020-05-05T00:00:00.000   \n",
       "10513               Leve                   Colombia  2020-05-05T00:00:00.000   \n",
       "10514               Leve                   Colombia  2020-05-02T00:00:00.000   \n",
       "10515               Leve                   Colombia  2020-05-05T00:00:00.000   \n",
       "10516               Leve                   Colombia  2020-05-05T00:00:00.000   \n",
       "10517               Leve                   Colombia  2020-05-01T00:00:00.000   \n",
       "10518               Leve                   Colombia  2020-04-26T00:00:00.000   \n",
       "10519               Leve                   Colombia  2020-04-28T00:00:00.000   \n",
       "10520               Leve                   Colombia  2020-04-25T00:00:00.000   \n",
       "10521               Leve                   Colombia  2020-05-02T00:00:00.000   \n",
       "10522               Leve                   Colombia  2020-05-04T00:00:00.000   \n",
       "10523               Leve                   Colombia  2020-05-03T00:00:00.000   \n",
       "10524               Leve                   Colombia  2020-04-29T00:00:00.000   \n",
       "10525               Leve                   Colombia  2020-05-05T00:00:00.000   \n",
       "10526               Leve                   Colombia  2020-04-30T00:00:00.000   \n",
       "10527               Leve                   Colombia  2020-04-30T00:00:00.000   \n",
       "10528               Leve                   Colombia  2020-05-05T00:00:00.000   \n",
       "10529               Leve                   Colombia  2020-05-04T00:00:00.000   \n",
       "10530               Leve                   Colombia  2020-05-06T00:00:00.000   \n",
       "10531               Leve                   Colombia  2020-05-03T00:00:00.000   \n",
       "10532               Leve                   Colombia  2020-05-03T00:00:00.000   \n",
       "10533               Leve                   Colombia  2020-05-04T00:00:00.000   \n",
       "10534          Fallecido                   Colombia  2020-04-26T00:00:00.000   \n",
       "10535          Fallecido                   Colombia  2020-04-26T00:00:00.000   \n",
       "\n",
       "                    Fecha de muerte        Fecha diagnostico  \\\n",
       "ID de caso                                                     \n",
       "1                             -   -  2020-03-06T00:00:00.000   \n",
       "2                             -   -  2020-03-09T00:00:00.000   \n",
       "3                             -   -  2020-03-09T00:00:00.000   \n",
       "4                             -   -  2020-03-11T00:00:00.000   \n",
       "5                             -   -  2020-03-11T00:00:00.000   \n",
       "6                             -   -  2020-03-11T00:00:00.000   \n",
       "7                             -   -  2020-03-11T00:00:00.000   \n",
       "8                             -   -  2020-03-11T00:00:00.000   \n",
       "9                             -   -  2020-03-11T00:00:00.000   \n",
       "10                            -   -  2020-03-12T00:00:00.000   \n",
       "11                            -   -  2020-03-12T00:00:00.000   \n",
       "12                            -   -  2020-03-12T00:00:00.000   \n",
       "13                            -   -  2020-03-12T00:00:00.000   \n",
       "14                            -   -  2020-03-13T00:00:00.000   \n",
       "15                            -   -  2020-03-13T00:00:00.000   \n",
       "16                            -   -  2020-03-13T00:00:00.000   \n",
       "17                            -   -  2020-03-14T00:00:00.000   \n",
       "18                            -   -  2020-03-14T00:00:00.000   \n",
       "19                            -   -  2020-03-14T00:00:00.000   \n",
       "20                            -   -  2020-03-14T00:00:00.000   \n",
       "21                            -   -  2020-03-14T00:00:00.000   \n",
       "22                            -   -  2020-03-14T00:00:00.000   \n",
       "23                            -   -  2020-03-14T00:00:00.000   \n",
       "24                            -   -  2020-03-14T00:00:00.000   \n",
       "25                            -   -  2020-03-13T00:00:00.000   \n",
       "26                            -   -  2020-03-15T00:00:00.000   \n",
       "27                            -   -  2020-03-15T00:00:00.000   \n",
       "28                            -   -  2020-03-14T00:00:00.000   \n",
       "29                            -   -  2020-03-12T00:00:00.000   \n",
       "30                            -   -  2020-03-15T00:00:00.000   \n",
       "...                             ...                      ...   \n",
       "10506       2020-05-08T00:00:00.000  2020-05-09T00:00:00.000   \n",
       "10507                         -   -  2020-05-09T00:00:00.000   \n",
       "10508                         -   -  2020-05-09T00:00:00.000   \n",
       "10509                         -   -  2020-05-09T00:00:00.000   \n",
       "10510                         -   -  2020-05-09T00:00:00.000   \n",
       "10511                         -   -  2020-05-09T00:00:00.000   \n",
       "10512                         -   -  2020-05-09T00:00:00.000   \n",
       "10513                         -   -  2020-05-09T00:00:00.000   \n",
       "10514                         -   -  2020-05-09T00:00:00.000   \n",
       "10515                         -   -  2020-05-09T00:00:00.000   \n",
       "10516                         -   -  2020-05-09T00:00:00.000   \n",
       "10517                         -   -  2020-05-09T00:00:00.000   \n",
       "10518                         -   -  2020-05-09T00:00:00.000   \n",
       "10519                         -   -  2020-05-09T00:00:00.000   \n",
       "10520                         -   -  2020-05-09T00:00:00.000   \n",
       "10521                         -   -  2020-05-09T00:00:00.000   \n",
       "10522                         -   -  2020-05-09T00:00:00.000   \n",
       "10523                         -   -  2020-05-09T00:00:00.000   \n",
       "10524                         -   -  2020-05-09T00:00:00.000   \n",
       "10525                         -   -  2020-05-09T00:00:00.000   \n",
       "10526                         -   -  2020-05-09T00:00:00.000   \n",
       "10527                         -   -  2020-05-09T00:00:00.000   \n",
       "10528                         -   -  2020-05-09T00:00:00.000   \n",
       "10529                         -   -  2020-05-09T00:00:00.000   \n",
       "10530                         -   -  2020-05-09T00:00:00.000   \n",
       "10531                         -   -  2020-05-09T00:00:00.000   \n",
       "10532                         -   -  2020-05-09T00:00:00.000   \n",
       "10533                         -   -  2020-05-09T00:00:00.000   \n",
       "10534       2020-05-07T00:00:00.000  2020-05-09T00:00:00.000   \n",
       "10535       2020-04-29T00:00:00.000  2020-05-09T00:00:00.000   \n",
       "\n",
       "                   Fecha recuperado        fecha reporte web  \n",
       "ID de caso                                                    \n",
       "1           2020-03-13T00:00:00.000  2020-03-06T00:00:00.000  \n",
       "2           2020-03-19T00:00:00.000  2020-03-09T00:00:00.000  \n",
       "3           2020-03-15T00:00:00.000  2020-03-09T00:00:00.000  \n",
       "4           2020-03-26T00:00:00.000  2020-03-11T00:00:00.000  \n",
       "5           2020-03-23T00:00:00.000  2020-03-11T00:00:00.000  \n",
       "6           2020-03-26T00:00:00.000  2020-03-11T00:00:00.000  \n",
       "7           2020-03-17T00:00:00.000  2020-03-11T00:00:00.000  \n",
       "8           2020-03-21T00:00:00.000  2020-03-11T00:00:00.000  \n",
       "9           2020-03-23T00:00:00.000  2020-03-11T00:00:00.000  \n",
       "10          2020-03-21T00:00:00.000  2020-03-12T00:00:00.000  \n",
       "11          2020-03-31T00:00:00.000  2020-03-12T00:00:00.000  \n",
       "12          2020-04-09T00:00:00.000  2020-03-12T00:00:00.000  \n",
       "13          2020-03-30T00:00:00.000  2020-03-12T00:00:00.000  \n",
       "14          2020-03-21T00:00:00.000  2020-03-13T00:00:00.000  \n",
       "15          2020-03-23T00:00:00.000  2020-03-13T00:00:00.000  \n",
       "16          2020-03-23T00:00:00.000  2020-03-13T00:00:00.000  \n",
       "17          2020-03-14T00:00:00.000  2020-03-14T00:00:00.000  \n",
       "18          2020-04-07T00:00:00.000  2020-03-14T00:00:00.000  \n",
       "19          2020-03-24T00:00:00.000  2020-03-14T00:00:00.000  \n",
       "20          2020-03-24T00:00:00.000  2020-03-14T00:00:00.000  \n",
       "21          2020-04-10T00:00:00.000  2020-03-14T00:00:00.000  \n",
       "22          2020-03-24T00:00:00.000  2020-03-14T00:00:00.000  \n",
       "23          2020-03-23T00:00:00.000  2020-03-14T00:00:00.000  \n",
       "24          2020-03-27T00:00:00.000  2020-03-14T00:00:00.000  \n",
       "25                            -   -  2020-03-13T00:00:00.000  \n",
       "26          2020-03-25T00:00:00.000  2020-03-15T00:00:00.000  \n",
       "27          2020-03-25T00:00:00.000  2020-03-15T00:00:00.000  \n",
       "28          2020-04-08T00:00:00.000  2020-03-14T00:00:00.000  \n",
       "29          2020-03-25T00:00:00.000  2020-03-12T00:00:00.000  \n",
       "30          2020-03-25T00:00:00.000  2020-03-15T00:00:00.000  \n",
       "...                             ...                      ...  \n",
       "10506                         -   -  2020-05-09T00:00:00.000  \n",
       "10507                         -   -  2020-05-09T00:00:00.000  \n",
       "10508                         -   -  2020-05-09T00:00:00.000  \n",
       "10509                         -   -  2020-05-09T00:00:00.000  \n",
       "10510                         -   -  2020-05-09T00:00:00.000  \n",
       "10511                         -   -  2020-05-09T00:00:00.000  \n",
       "10512                         -   -  2020-05-09T00:00:00.000  \n",
       "10513                         -   -  2020-05-09T00:00:00.000  \n",
       "10514                         -   -  2020-05-09T00:00:00.000  \n",
       "10515                         -   -  2020-05-09T00:00:00.000  \n",
       "10516                         -   -  2020-05-09T00:00:00.000  \n",
       "10517                         -   -  2020-05-09T00:00:00.000  \n",
       "10518                         -   -  2020-05-09T00:00:00.000  \n",
       "10519                         -   -  2020-05-09T00:00:00.000  \n",
       "10520                         -   -  2020-05-09T00:00:00.000  \n",
       "10521                         -   -  2020-05-09T00:00:00.000  \n",
       "10522                         -   -  2020-05-09T00:00:00.000  \n",
       "10523                         -   -  2020-05-09T00:00:00.000  \n",
       "10524                         -   -  2020-05-09T00:00:00.000  \n",
       "10525                         -   -  2020-05-09T00:00:00.000  \n",
       "10526                         -   -  2020-05-09T00:00:00.000  \n",
       "10527                         -   -  2020-05-09T00:00:00.000  \n",
       "10528                         -   -  2020-05-09T00:00:00.000  \n",
       "10529                         -   -  2020-05-09T00:00:00.000  \n",
       "10530                         -   -  2020-05-09T00:00:00.000  \n",
       "10531                         -   -  2020-05-09T00:00:00.000  \n",
       "10532                         -   -  2020-05-09T00:00:00.000  \n",
       "10533                         -   -  2020-05-09T00:00:00.000  \n",
       "10534                         -   -  2020-05-09T00:00:00.000  \n",
       "10535                         -   -  2020-05-09T00:00:00.000  \n",
       "\n",
       "[10495 rows x 15 columns]"
      ]
     },
     "execution_count": 52,
     "metadata": {},
     "output_type": "execute_result"
    }
   ],
   "source": [
    "data"
   ]
  },
  {
   "cell_type": "code",
   "execution_count": 53,
   "metadata": {
    "colab": {},
    "colab_type": "code",
    "id": "zFjFHn3UC5yW"
   },
   "outputs": [
    {
     "data": {
      "text/plain": [
       "array(['-   -', '2020-04-05T00:00:00.000', '2020-04-06T00:00:00.000',\n",
       "       '2020-03-23T00:00:00.000', '2020-03-22T00:00:00.000',\n",
       "       '2020-03-16T00:00:00.000', '2020-03-26T00:00:00.000',\n",
       "       '2020-03-25T00:00:00.000', '2020-04-04T00:00:00.000',\n",
       "       '2020-04-15T00:00:00.000', '2020-04-09T00:00:00.000',\n",
       "       '2020-03-30T00:00:00.000', '2020-03-28T00:00:00.000',\n",
       "       '2020-04-02T00:00:00.000', '2020-04-08T00:00:00.000',\n",
       "       '2020-03-27T00:00:00.000', '2020-04-12T00:00:00.000',\n",
       "       '2020-04-03T00:00:00.000', '2020-04-24T00:00:00.000',\n",
       "       '2020-04-21T00:00:00.000', '2020-04-07T00:00:00.000',\n",
       "       '2020-04-14T00:00:00.000', '2020-04-01T00:00:00.000',\n",
       "       '2020-04-19T00:00:00.000', '2020-03-31T00:00:00.000',\n",
       "       '2020-04-10T00:00:00.000', '2020-04-18T00:00:00.000',\n",
       "       '2020-04-11T00:00:00.000', '2020-03-29T00:00:00.000',\n",
       "       '2020-04-28T00:00:00.000', '2020-05-04T00:00:00.000',\n",
       "       '2020-04-17T00:00:00.000', '2020-04-16T00:00:00.000',\n",
       "       '2020-04-13T00:00:00.000', '2020-04-25T00:00:00.000',\n",
       "       '2020-03-24T00:00:00.000', '2020-05-01T00:00:00.000',\n",
       "       '2020-04-29T00:00:00.000', '2020-04-27T00:00:00.000',\n",
       "       '2020-04-20T00:00:00.000', '2020-04-26T00:00:00.000',\n",
       "       '2020-04-22T00:00:00.000', '2020-04-23T00:00:00.000',\n",
       "       '2020-05-02T00:00:00.000', '2020-05-06T00:00:00.000',\n",
       "       '2020-04-30T00:00:00.000', '2020-05-05T00:00:00.000',\n",
       "       '2020-05-07T00:00:00.000', '2020-05-03T00:00:00.000',\n",
       "       '2020-05-08T00:00:00.000'], dtype=object)"
      ]
     },
     "execution_count": 53,
     "metadata": {},
     "output_type": "execute_result"
    }
   ],
   "source": [
    "data['Fecha de muerte'].unique()"
   ]
  },
  {
   "cell_type": "code",
   "execution_count": 54,
   "metadata": {
    "colab": {},
    "colab_type": "code",
    "id": "Brhs-EvWFKni"
   },
   "outputs": [
    {
     "data": {
      "text/plain": [
       "array(['2020-03-06T00:00:00.000', '2020-03-09T00:00:00.000',\n",
       "       '2020-03-11T00:00:00.000', '2020-03-12T00:00:00.000',\n",
       "       '2020-03-13T00:00:00.000', '2020-03-14T00:00:00.000',\n",
       "       '2020-03-15T00:00:00.000', '2020-03-16T00:00:00.000',\n",
       "       '2020-03-17T00:00:00.000', '2020-03-18T00:00:00.000',\n",
       "       '2020-03-19T00:00:00.000', '2020-03-20T00:00:00.000',\n",
       "       '2020-03-21T00:00:00.000', '2020-03-22T00:00:00.000',\n",
       "       '2020-03-23T00:00:00.000', '2020-03-24T00:00:00.000',\n",
       "       '2020-03-27T00:00:00.000', '2020-03-25T00:00:00.000',\n",
       "       '2020-03-26T00:00:00.000', '2020-03-28T00:00:00.000',\n",
       "       '2020-03-29T00:00:00.000', '2020-03-30T00:00:00.000',\n",
       "       '2020-03-31T00:00:00.000', '2020-04-01T00:00:00.000',\n",
       "       '2020-04-02T00:00:00.000', '2020-04-03T00:00:00.000',\n",
       "       '2020-04-04T00:00:00.000', '2020-04-05T00:00:00.000',\n",
       "       '2020-04-06T00:00:00.000', '2020-04-07T00:00:00.000',\n",
       "       '2020-04-08T00:00:00.000', '2020-04-09T00:00:00.000',\n",
       "       '2020-04-10T00:00:00.000', '2020-04-11T00:00:00.000',\n",
       "       '2020-04-12T00:00:00.000', '2020-04-13T00:00:00.000',\n",
       "       '2020-04-14T00:00:00.000', '2020-04-19T00:00:00.000',\n",
       "       '2020-04-15T00:00:00.000', '2020-04-28T00:00:00.000',\n",
       "       '2020-04-16T00:00:00.000', '2020-04-17T00:00:00.000',\n",
       "       '2020-04-18T00:00:00.000', '2020-04-20T00:00:00.000',\n",
       "       '2020-04-22T00:00:00.000', '2020-04-21T00:00:00.000',\n",
       "       '2020-04-23T00:00:00.000', '2020-05-01T00:00:00.000',\n",
       "       '2020-04-24T00:00:00.000', '2020-05-05T00:00:00.000',\n",
       "       '2020-04-25T00:00:00.000', '2020-04-26T00:00:00.000',\n",
       "       '2020-04-27T00:00:00.000', '2020-04-29T00:00:00.000',\n",
       "       '2020-04-30T00:00:00.000', '2020-05-02T00:00:00.000',\n",
       "       '2020-05-04T00:00:00.000', '2020-05-03T00:00:00.000',\n",
       "       '2020-05-06T00:00:00.000', '2020-05-07T00:00:00.000',\n",
       "       '2020-05-08T00:00:00.000', '2020-05-09T00:00:00.000'], dtype=object)"
      ]
     },
     "execution_count": 54,
     "metadata": {},
     "output_type": "execute_result"
    }
   ],
   "source": [
    "data['Fecha diagnostico'].unique()"
   ]
  },
  {
   "cell_type": "code",
   "execution_count": 55,
   "metadata": {
    "colab": {},
    "colab_type": "code",
    "id": "M3SJPMBS7FXS"
   },
   "outputs": [],
   "source": [
    "data['Fecha de muerte'].replace('-   -',np.nan, inplace=True)\n",
    "data['Fecha de muerte'].replace('/  /',np.nan, inplace=True)\n",
    "data['Fecha recuperado'].replace('-   -',np.nan, inplace=True)\n",
    "data['Fecha diagnostico'].replace('SIN DATO',np.nan, inplace=True)\n",
    "S1 = data['Fecha diagnostico'].dropna().apply(dateutil.parser.parse, yearfirst=True).value_counts().sort_index(ascending=True)\n",
    "S2 = data['Fecha de muerte'].dropna().apply(dateutil.parser.parse, yearfirst=True).value_counts().sort_index(ascending=True)\n",
    "S3 = data['Fecha recuperado'].dropna().apply(dateutil.parser.parse, yearfirst=True).value_counts().sort_index(ascending=True)"
   ]
  },
  {
   "cell_type": "code",
   "execution_count": 56,
   "metadata": {
    "colab": {},
    "colab_type": "code",
    "id": "CQdyH17Z1ST4"
   },
   "outputs": [
    {
     "data": {
      "text/plain": [
       "array(['2020-03-06T00:00:00.000', '2020-03-09T00:00:00.000',\n",
       "       '2020-03-11T00:00:00.000', '2020-03-12T00:00:00.000',\n",
       "       '2020-03-13T00:00:00.000', '2020-03-14T00:00:00.000',\n",
       "       '2020-03-15T00:00:00.000', '2020-03-16T00:00:00.000',\n",
       "       '2020-03-17T00:00:00.000', '2020-03-18T00:00:00.000',\n",
       "       '2020-03-19T00:00:00.000', '2020-03-20T00:00:00.000',\n",
       "       '2020-03-21T00:00:00.000', '2020-03-22T00:00:00.000',\n",
       "       '2020-03-23T00:00:00.000', '2020-03-24T00:00:00.000',\n",
       "       '2020-03-27T00:00:00.000', '2020-03-25T00:00:00.000',\n",
       "       '2020-03-26T00:00:00.000', '2020-03-28T00:00:00.000',\n",
       "       '2020-03-29T00:00:00.000', '2020-03-30T00:00:00.000',\n",
       "       '2020-03-31T00:00:00.000', '2020-04-01T00:00:00.000',\n",
       "       '2020-04-02T00:00:00.000', '2020-04-03T00:00:00.000',\n",
       "       '2020-04-04T00:00:00.000', '2020-04-05T00:00:00.000',\n",
       "       '2020-04-06T00:00:00.000', '2020-04-07T00:00:00.000',\n",
       "       '2020-04-08T00:00:00.000', '2020-04-09T00:00:00.000',\n",
       "       '2020-04-10T00:00:00.000', '2020-04-11T00:00:00.000',\n",
       "       '2020-04-12T00:00:00.000', '2020-04-13T00:00:00.000',\n",
       "       '2020-04-14T00:00:00.000', '2020-04-19T00:00:00.000',\n",
       "       '2020-04-15T00:00:00.000', '2020-04-28T00:00:00.000',\n",
       "       '2020-04-16T00:00:00.000', '2020-04-17T00:00:00.000',\n",
       "       '2020-04-18T00:00:00.000', '2020-04-20T00:00:00.000',\n",
       "       '2020-04-22T00:00:00.000', '2020-04-21T00:00:00.000',\n",
       "       '2020-04-23T00:00:00.000', '2020-05-01T00:00:00.000',\n",
       "       '2020-04-24T00:00:00.000', '2020-05-05T00:00:00.000',\n",
       "       '2020-04-25T00:00:00.000', '2020-04-26T00:00:00.000',\n",
       "       '2020-04-27T00:00:00.000', '2020-04-29T00:00:00.000',\n",
       "       '2020-04-30T00:00:00.000', '2020-05-02T00:00:00.000',\n",
       "       '2020-05-04T00:00:00.000', '2020-05-03T00:00:00.000',\n",
       "       '2020-05-06T00:00:00.000', '2020-05-07T00:00:00.000',\n",
       "       '2020-05-08T00:00:00.000', '2020-05-09T00:00:00.000'], dtype=object)"
      ]
     },
     "execution_count": 56,
     "metadata": {},
     "output_type": "execute_result"
    }
   ],
   "source": [
    "data['Fecha diagnostico'].unique()"
   ]
  },
  {
   "cell_type": "code",
   "execution_count": 57,
   "metadata": {
    "colab": {},
    "colab_type": "code",
    "id": "MGJlunZC4WAU"
   },
   "outputs": [],
   "source": [
    "frame = { 'Contagiados': S1, 'Muertos': S2, 'Recuperados': S3 } \n",
    "df=pd.DataFrame(frame).fillna(value=0)\n"
   ]
  },
  {
   "cell_type": "code",
   "execution_count": 58,
   "metadata": {
    "colab": {},
    "colab_type": "code",
    "id": "-DpEMd5gvJFk"
   },
   "outputs": [
    {
     "data": {
      "text/plain": [
       "<matplotlib.axes._subplots.AxesSubplot at 0x7f9e563d3b90>"
      ]
     },
     "execution_count": 58,
     "metadata": {},
     "output_type": "execute_result"
    },
    {
     "data": {
      "image/png": "[encoded data removed]",
      "text/plain": [
       "<Figure size 432x288 with 1 Axes>"
      ]
     },
     "metadata": {
      "needs_background": "light"
     },
     "output_type": "display_data"
    }
   ],
   "source": [
    "df['Contagiados'].plot()"
   ]
  },
  {
   "cell_type": "code",
   "execution_count": 59,
   "metadata": {
    "colab": {},
    "colab_type": "code",
    "id": "c_S3xKE43koP"
   },
   "outputs": [
    {
     "data": {
      "text/plain": [
       "<matplotlib.axes._subplots.AxesSubplot at 0x7f9e56526250>"
      ]
     },
     "execution_count": 59,
     "metadata": {},
     "output_type": "execute_result"
    },
    {
     "data": {
      "image/png": "[encoded data removed]",
      "text/plain": [
       "<Figure size 432x288 with 1 Axes>"
      ]
     },
     "metadata": {
      "needs_background": "light"
     },
     "output_type": "display_data"
    }
   ],
   "source": [
    "df['Contagiados'].cumsum().plot()"
   ]
  },
  {
   "cell_type": "code",
   "execution_count": 60,
   "metadata": {
    "colab": {},
    "colab_type": "code",
    "id": "Y47l0Ln5h6NA"
   },
   "outputs": [
    {
     "data": {
      "text/plain": [
       "<matplotlib.axes._subplots.AxesSubplot at 0x7f9e56480250>"
      ]
     },
     "execution_count": 60,
     "metadata": {},
     "output_type": "execute_result"
    },
    {
     "data": {
      "image/png": "[encoded data removed]",
      "text/plain": [
       "<Figure size 432x288 with 1 Axes>"
      ]
     },
     "metadata": {
      "needs_background": "light"
     },
     "output_type": "display_data"
    }
   ],
   "source": [
    "df.cumsum().plot()"
   ]
  },
  {
   "cell_type": "code",
   "execution_count": 61,
   "metadata": {
    "colab": {},
    "colab_type": "code",
    "id": "HkqLspUre3NJ"
   },
   "outputs": [
    {
     "data": {
      "text/plain": [
       "array([<matplotlib.axes._subplots.AxesSubplot object at 0x7f9e563089d0>,\n",
       "       <matplotlib.axes._subplots.AxesSubplot object at 0x7f9e5626ecd0>,\n",
       "       <matplotlib.axes._subplots.AxesSubplot object at 0x7f9e56226d50>],\n",
       "      dtype=object)"
      ]
     },
     "execution_count": 61,
     "metadata": {},
     "output_type": "execute_result"
    },
    {
     "data": {
      "image/png": "[encoded data removed]",
      "text/plain": [
       "<Figure size 432x288 with 3 Axes>"
      ]
     },
     "metadata": {
      "needs_background": "light"
     },
     "output_type": "display_data"
    }
   ],
   "source": [
    "df.cumsum().plot(subplots=True)"
   ]
  },
  {
   "cell_type": "code",
   "execution_count": 62,
   "metadata": {
    "colab": {},
    "colab_type": "code",
    "id": "d2OrzJlGiVpo"
   },
   "outputs": [
    {
     "data": {
      "text/plain": [
       "<matplotlib.axes._subplots.AxesSubplot at 0x7f9e562a7e50>"
      ]
     },
     "execution_count": 62,
     "metadata": {},
     "output_type": "execute_result"
    },
    {
     "data": {
      "image/png": "[encoded data removed]",
      "text/plain": [
       "<Figure size 432x288 with 1 Axes>"
      ]
     },
     "metadata": {
      "needs_background": "light"
     },
     "output_type": "display_data"
    }
   ],
   "source": [
    "df.cumsum().plot(x='Contagiados', y='Muertos')"
   ]
  },
  {
   "cell_type": "markdown",
   "metadata": {
    "colab_type": "text",
    "id": "-c2tnoM5WYjn"
   },
   "source": [
    "\n",
    "\n",
    "---\n",
    "\n",
    "### Bar\n",
    "\n",
    "\n",
    "---\n",
    "\n"
   ]
  },
  {
   "cell_type": "code",
   "execution_count": 63,
   "metadata": {
    "colab": {},
    "colab_type": "code",
    "id": "CKefw-W3jzzl"
   },
   "outputs": [
    {
     "data": {
      "text/plain": [
       "<matplotlib.axes._subplots.AxesSubplot at 0x7f9e56040f10>"
      ]
     },
     "execution_count": 63,
     "metadata": {},
     "output_type": "execute_result"
    },
    {
     "data": {
      "image/png": "[encoded data removed]",
      "text/plain": [
       "<Figure size 2160x720 with 1 Axes>"
      ]
     },
     "metadata": {
      "needs_background": "light"
     },
     "output_type": "display_data"
    }
   ],
   "source": [
    "data['Edad'].value_counts().sort_index(ascending=True).plot(kind = 'bar', figsize=(30,10))"
   ]
  },
  {
   "cell_type": "code",
   "execution_count": 64,
   "metadata": {
    "colab": {},
    "colab_type": "code",
    "id": "wFi5PSujmnG5"
   },
   "outputs": [
    {
     "data": {
      "text/plain": [
       "<matplotlib.axes._subplots.AxesSubplot at 0x7f9e55f39290>"
      ]
     },
     "execution_count": 64,
     "metadata": {},
     "output_type": "execute_result"
    },
    {
     "data": {
      "image/png": "[encoded data removed]",
      "text/plain": [
       "<Figure size 2160x720 with 1 Axes>"
      ]
     },
     "metadata": {
      "needs_background": "light"
     },
     "output_type": "display_data"
    }
   ],
   "source": [
    "data['Edad'][data['Estado']=='Fallecido'].value_counts().sort_index(ascending=True).plot(kind = 'bar', figsize=(30,10))"
   ]
  },
  {
   "cell_type": "code",
   "execution_count": 65,
   "metadata": {
    "colab": {},
    "colab_type": "code",
    "id": "m6dYN3BCpLGv"
   },
   "outputs": [
    {
     "data": {
      "text/plain": [
       "<matplotlib.axes._subplots.AxesSubplot at 0x7f9e55d13550>"
      ]
     },
     "execution_count": 65,
     "metadata": {},
     "output_type": "execute_result"
    },
    {
     "data": {
      "image/png": "[encoded data removed]",
      "text/plain": [
       "<Figure size 432x288 with 1 Axes>"
      ]
     },
     "metadata": {
      "needs_background": "light"
     },
     "output_type": "display_data"
    }
   ],
   "source": [
    "df.iloc[len(df)-10:,:].plot.bar()"
   ]
  },
  {
   "cell_type": "code",
   "execution_count": 66,
   "metadata": {
    "colab": {},
    "colab_type": "code",
    "id": "4MXmnHUEtjto"
   },
   "outputs": [
    {
     "data": {
      "text/plain": [
       "<matplotlib.axes._subplots.AxesSubplot at 0x7f9e55ac1a50>"
      ]
     },
     "execution_count": 66,
     "metadata": {},
     "output_type": "execute_result"
    },
    {
     "data": {
      "image/png": "[encoded data removed]",
      "text/plain": [
       "<Figure size 432x288 with 1 Axes>"
      ]
     },
     "metadata": {
      "needs_background": "light"
     },
     "output_type": "display_data"
    }
   ],
   "source": [
    "df.iloc[len(df)-10:,:].plot.bar(stacked=True)"
   ]
  },
  {
   "cell_type": "markdown",
   "metadata": {
    "colab_type": "text",
    "id": "JCpyDXoTWhUL"
   },
   "source": [
    "\n",
    "\n",
    "---\n",
    "\n",
    "### Hist\n",
    "\n",
    "\n",
    "---\n",
    "\n"
   ]
  },
  {
   "cell_type": "code",
   "execution_count": 67,
   "metadata": {
    "colab": {},
    "colab_type": "code",
    "id": "QvDsMJpWumhj"
   },
   "outputs": [
    {
     "data": {
      "text/plain": [
       "<matplotlib.axes._subplots.AxesSubplot at 0x7f9e559c60d0>"
      ]
     },
     "execution_count": 67,
     "metadata": {},
     "output_type": "execute_result"
    },
    {
     "data": {
      "image/png": "[encoded data removed]",
      "text/plain": [
       "<Figure size 432x288 with 1 Axes>"
      ]
     },
     "metadata": {
      "needs_background": "light"
     },
     "output_type": "display_data"
    }
   ],
   "source": [
    "data['Edad'].hist(bins=10)\n",
    "data['Edad'][data['Estado']=='Fallecido'].hist(bins=10)"
   ]
  },
  {
   "cell_type": "code",
   "execution_count": 76,
   "metadata": {
    "colab": {},
    "colab_type": "code",
    "collapsed": true,
    "id": "gbDjugTZw_MX"
   },
   "outputs": [
    {
     "data": {
      "text/plain": [
       "array([[<matplotlib.axes._subplots.AxesSubplot object at 0x7f9e55273050>,\n",
       "        <matplotlib.axes._subplots.AxesSubplot object at 0x7f9e5529fbd0>],\n",
       "       [<matplotlib.axes._subplots.AxesSubplot object at 0x7f9e55257a50>,\n",
       "        <matplotlib.axes._subplots.AxesSubplot object at 0x7f9e5520dc10>],\n",
       "       [<matplotlib.axes._subplots.AxesSubplot object at 0x7f9e551c4dd0>,\n",
       "        <matplotlib.axes._subplots.AxesSubplot object at 0x7f9e5517ef90>]],\n",
       "      dtype=object)"
      ]
     },
     "execution_count": 76,
     "metadata": {},
     "output_type": "execute_result"
    },
    {
     "name": "stdout",
     "output_type": "stream",
     "text": [
      "Error in callback <function post_execute at 0x7f9e5b120938> (for post_execute):\n"
     ]
    },
    {
     "ename": "ValueError",
     "evalue": "matplotlib display text must have all code points < 128 or use Unicode strings",
     "output_type": "error",
     "traceback": [
      "\u001b[0;31m---------------------------------------------------------------------------\u001b[0m",
      "\u001b[0;31mValueError\u001b[0m                                Traceback (most recent call last)",
      "\u001b[0;32m/home/juferoga/anaconda2/lib/python2.7/site-packages/matplotlib/pyplot.pyc\u001b[0m in \u001b[0;36mpost_execute\u001b[0;34m()\u001b[0m\n\u001b[1;32m    147\u001b[0m             \u001b[0;32mdef\u001b[0m \u001b[0mpost_execute\u001b[0m\u001b[0;34m(\u001b[0m\u001b[0;34m)\u001b[0m\u001b[0;34m:\u001b[0m\u001b[0;34m\u001b[0m\u001b[0m\n\u001b[1;32m    148\u001b[0m                 \u001b[0;32mif\u001b[0m \u001b[0mmatplotlib\u001b[0m\u001b[0;34m.\u001b[0m\u001b[0mis_interactive\u001b[0m\u001b[0;34m(\u001b[0m\u001b[0;34m)\u001b[0m\u001b[0;34m:\u001b[0m\u001b[0;34m\u001b[0m\u001b[0m\n\u001b[0;32m--> 149\u001b[0;31m                     \u001b[0mdraw_all\u001b[0m\u001b[0;34m(\u001b[0m\u001b[0;34m)\u001b[0m\u001b[0;34m\u001b[0m\u001b[0m\n\u001b[0m\u001b[1;32m    150\u001b[0m \u001b[0;34m\u001b[0m\u001b[0m\n\u001b[1;32m    151\u001b[0m             \u001b[0;31m# IPython >= 2\u001b[0m\u001b[0;34m\u001b[0m\u001b[0;34m\u001b[0m\u001b[0m\n",
      "\u001b[0;32m/home/juferoga/anaconda2/lib/python2.7/site-packages/matplotlib/_pylab_helpers.pyc\u001b[0m in \u001b[0;36mdraw_all\u001b[0;34m(cls, force)\u001b[0m\n\u001b[1;32m    134\u001b[0m         \u001b[0;32mfor\u001b[0m \u001b[0mf_mgr\u001b[0m \u001b[0;32min\u001b[0m \u001b[0mcls\u001b[0m\u001b[0;34m.\u001b[0m\u001b[0mget_all_fig_managers\u001b[0m\u001b[0;34m(\u001b[0m\u001b[0;34m)\u001b[0m\u001b[0;34m:\u001b[0m\u001b[0;34m\u001b[0m\u001b[0m\n\u001b[1;32m    135\u001b[0m             \u001b[0;32mif\u001b[0m \u001b[0mforce\u001b[0m \u001b[0;32mor\u001b[0m \u001b[0mf_mgr\u001b[0m\u001b[0;34m.\u001b[0m\u001b[0mcanvas\u001b[0m\u001b[0;34m.\u001b[0m\u001b[0mfigure\u001b[0m\u001b[0;34m.\u001b[0m\u001b[0mstale\u001b[0m\u001b[0;34m:\u001b[0m\u001b[0;34m\u001b[0m\u001b[0m\n\u001b[0;32m--> 136\u001b[0;31m                 \u001b[0mf_mgr\u001b[0m\u001b[0;34m.\u001b[0m\u001b[0mcanvas\u001b[0m\u001b[0;34m.\u001b[0m\u001b[0mdraw_idle\u001b[0m\u001b[0;34m(\u001b[0m\u001b[0;34m)\u001b[0m\u001b[0;34m\u001b[0m\u001b[0m\n\u001b[0m\u001b[1;32m    137\u001b[0m \u001b[0;34m\u001b[0m\u001b[0m\n\u001b[1;32m    138\u001b[0m \u001b[0matexit\u001b[0m\u001b[0;34m.\u001b[0m\u001b[0mregister\u001b[0m\u001b[0;34m(\u001b[0m\u001b[0mGcf\u001b[0m\u001b[0;34m.\u001b[0m\u001b[0mdestroy_all\u001b[0m\u001b[0;34m)\u001b[0m\u001b[0;34m\u001b[0m\u001b[0m\n",
      "\u001b[0;32m/home/juferoga/anaconda2/lib/python2.7/site-packages/matplotlib/backend_bases.pyc\u001b[0m in \u001b[0;36mdraw_idle\u001b[0;34m(self, *args, **kwargs)\u001b[0m\n\u001b[1;32m   2053\u001b[0m         \u001b[0;32mif\u001b[0m \u001b[0;32mnot\u001b[0m \u001b[0mself\u001b[0m\u001b[0;34m.\u001b[0m\u001b[0m_is_idle_drawing\u001b[0m\u001b[0;34m:\u001b[0m\u001b[0;34m\u001b[0m\u001b[0m\n\u001b[1;32m   2054\u001b[0m             \u001b[0;32mwith\u001b[0m \u001b[0mself\u001b[0m\u001b[0;34m.\u001b[0m\u001b[0m_idle_draw_cntx\u001b[0m\u001b[0;34m(\u001b[0m\u001b[0;34m)\u001b[0m\u001b[0;34m:\u001b[0m\u001b[0;34m\u001b[0m\u001b[0m\n\u001b[0;32m-> 2055\u001b[0;31m                 \u001b[0mself\u001b[0m\u001b[0;34m.\u001b[0m\u001b[0mdraw\u001b[0m\u001b[0;34m(\u001b[0m\u001b[0;34m*\u001b[0m\u001b[0margs\u001b[0m\u001b[0;34m,\u001b[0m \u001b[0;34m**\u001b[0m\u001b[0mkwargs\u001b[0m\u001b[0;34m)\u001b[0m\u001b[0;34m\u001b[0m\u001b[0m\n\u001b[0m\u001b[1;32m   2056\u001b[0m \u001b[0;34m\u001b[0m\u001b[0m\n\u001b[1;32m   2057\u001b[0m     \u001b[0;32mdef\u001b[0m \u001b[0mdraw_cursor\u001b[0m\u001b[0;34m(\u001b[0m\u001b[0mself\u001b[0m\u001b[0;34m,\u001b[0m \u001b[0mevent\u001b[0m\u001b[0;34m)\u001b[0m\u001b[0;34m:\u001b[0m\u001b[0;34m\u001b[0m\u001b[0m\n",
      "\u001b[0;32m/home/juferoga/anaconda2/lib/python2.7/site-packages/matplotlib/backends/backend_agg.pyc\u001b[0m in \u001b[0;36mdraw\u001b[0;34m(self)\u001b[0m\n\u001b[1;32m    435\u001b[0m             \u001b[0;31m# if toolbar:\u001b[0m\u001b[0;34m\u001b[0m\u001b[0;34m\u001b[0m\u001b[0m\n\u001b[1;32m    436\u001b[0m             \u001b[0;31m#     toolbar.set_cursor(cursors.WAIT)\u001b[0m\u001b[0;34m\u001b[0m\u001b[0;34m\u001b[0m\u001b[0m\n\u001b[0;32m--> 437\u001b[0;31m             \u001b[0mself\u001b[0m\u001b[0;34m.\u001b[0m\u001b[0mfigure\u001b[0m\u001b[0;34m.\u001b[0m\u001b[0mdraw\u001b[0m\u001b[0;34m(\u001b[0m\u001b[0mself\u001b[0m\u001b[0;34m.\u001b[0m\u001b[0mrenderer\u001b[0m\u001b[0;34m)\u001b[0m\u001b[0;34m\u001b[0m\u001b[0m\n\u001b[0m\u001b[1;32m    438\u001b[0m             \u001b[0;31m# A GUI class may be need to update a window using this draw, so\u001b[0m\u001b[0;34m\u001b[0m\u001b[0;34m\u001b[0m\u001b[0m\n\u001b[1;32m    439\u001b[0m             \u001b[0;31m# don't forget to call the superclass.\u001b[0m\u001b[0;34m\u001b[0m\u001b[0;34m\u001b[0m\u001b[0m\n",
      "\u001b[0;32m/home/juferoga/anaconda2/lib/python2.7/site-packages/matplotlib/artist.pyc\u001b[0m in \u001b[0;36mdraw_wrapper\u001b[0;34m(artist, renderer, *args, **kwargs)\u001b[0m\n\u001b[1;32m     53\u001b[0m                 \u001b[0mrenderer\u001b[0m\u001b[0;34m.\u001b[0m\u001b[0mstart_filter\u001b[0m\u001b[0;34m(\u001b[0m\u001b[0;34m)\u001b[0m\u001b[0;34m\u001b[0m\u001b[0m\n\u001b[1;32m     54\u001b[0m \u001b[0;34m\u001b[0m\u001b[0m\n\u001b[0;32m---> 55\u001b[0;31m             \u001b[0;32mreturn\u001b[0m \u001b[0mdraw\u001b[0m\u001b[0;34m(\u001b[0m\u001b[0martist\u001b[0m\u001b[0;34m,\u001b[0m \u001b[0mrenderer\u001b[0m\u001b[0;34m,\u001b[0m \u001b[0;34m*\u001b[0m\u001b[0margs\u001b[0m\u001b[0;34m,\u001b[0m \u001b[0;34m**\u001b[0m\u001b[0mkwargs\u001b[0m\u001b[0;34m)\u001b[0m\u001b[0;34m\u001b[0m\u001b[0m\n\u001b[0m\u001b[1;32m     56\u001b[0m         \u001b[0;32mfinally\u001b[0m\u001b[0;34m:\u001b[0m\u001b[0;34m\u001b[0m\u001b[0m\n\u001b[1;32m     57\u001b[0m             \u001b[0;32mif\u001b[0m \u001b[0martist\u001b[0m\u001b[0;34m.\u001b[0m\u001b[0mget_agg_filter\u001b[0m\u001b[0;34m(\u001b[0m\u001b[0;34m)\u001b[0m \u001b[0;32mis\u001b[0m \u001b[0;32mnot\u001b[0m \u001b[0mNone\u001b[0m\u001b[0;34m:\u001b[0m\u001b[0;34m\u001b[0m\u001b[0m\n",
      "\u001b[0;32m/home/juferoga/anaconda2/lib/python2.7/site-packages/matplotlib/figure.pyc\u001b[0m in \u001b[0;36mdraw\u001b[0;34m(self, renderer)\u001b[0m\n\u001b[1;32m   1491\u001b[0m \u001b[0;34m\u001b[0m\u001b[0m\n\u001b[1;32m   1492\u001b[0m             mimage._draw_list_compositing_images(\n\u001b[0;32m-> 1493\u001b[0;31m                 renderer, self, artists, self.suppressComposite)\n\u001b[0m\u001b[1;32m   1494\u001b[0m \u001b[0;34m\u001b[0m\u001b[0m\n\u001b[1;32m   1495\u001b[0m             \u001b[0mrenderer\u001b[0m\u001b[0;34m.\u001b[0m\u001b[0mclose_group\u001b[0m\u001b[0;34m(\u001b[0m\u001b[0;34m'figure'\u001b[0m\u001b[0;34m)\u001b[0m\u001b[0;34m\u001b[0m\u001b[0m\n",
      "\u001b[0;32m/home/juferoga/anaconda2/lib/python2.7/site-packages/matplotlib/image.pyc\u001b[0m in \u001b[0;36m_draw_list_compositing_images\u001b[0;34m(renderer, parent, artists, suppress_composite)\u001b[0m\n\u001b[1;32m    139\u001b[0m     \u001b[0;32mif\u001b[0m \u001b[0mnot_composite\u001b[0m \u001b[0;32mor\u001b[0m \u001b[0;32mnot\u001b[0m \u001b[0mhas_images\u001b[0m\u001b[0;34m:\u001b[0m\u001b[0;34m\u001b[0m\u001b[0m\n\u001b[1;32m    140\u001b[0m         \u001b[0;32mfor\u001b[0m \u001b[0ma\u001b[0m \u001b[0;32min\u001b[0m \u001b[0martists\u001b[0m\u001b[0;34m:\u001b[0m\u001b[0;34m\u001b[0m\u001b[0m\n\u001b[0;32m--> 141\u001b[0;31m             \u001b[0ma\u001b[0m\u001b[0;34m.\u001b[0m\u001b[0mdraw\u001b[0m\u001b[0;34m(\u001b[0m\u001b[0mrenderer\u001b[0m\u001b[0;34m)\u001b[0m\u001b[0;34m\u001b[0m\u001b[0m\n\u001b[0m\u001b[1;32m    142\u001b[0m     \u001b[0;32melse\u001b[0m\u001b[0;34m:\u001b[0m\u001b[0;34m\u001b[0m\u001b[0m\n\u001b[1;32m    143\u001b[0m         \u001b[0;31m# Composite any adjacent images together\u001b[0m\u001b[0;34m\u001b[0m\u001b[0;34m\u001b[0m\u001b[0m\n",
      "\u001b[0;32m/home/juferoga/anaconda2/lib/python2.7/site-packages/matplotlib/artist.pyc\u001b[0m in \u001b[0;36mdraw_wrapper\u001b[0;34m(artist, renderer, *args, **kwargs)\u001b[0m\n\u001b[1;32m     53\u001b[0m                 \u001b[0mrenderer\u001b[0m\u001b[0;34m.\u001b[0m\u001b[0mstart_filter\u001b[0m\u001b[0;34m(\u001b[0m\u001b[0;34m)\u001b[0m\u001b[0;34m\u001b[0m\u001b[0m\n\u001b[1;32m     54\u001b[0m \u001b[0;34m\u001b[0m\u001b[0m\n\u001b[0;32m---> 55\u001b[0;31m             \u001b[0;32mreturn\u001b[0m \u001b[0mdraw\u001b[0m\u001b[0;34m(\u001b[0m\u001b[0martist\u001b[0m\u001b[0;34m,\u001b[0m \u001b[0mrenderer\u001b[0m\u001b[0;34m,\u001b[0m \u001b[0;34m*\u001b[0m\u001b[0margs\u001b[0m\u001b[0;34m,\u001b[0m \u001b[0;34m**\u001b[0m\u001b[0mkwargs\u001b[0m\u001b[0;34m)\u001b[0m\u001b[0;34m\u001b[0m\u001b[0m\n\u001b[0m\u001b[1;32m     56\u001b[0m         \u001b[0;32mfinally\u001b[0m\u001b[0;34m:\u001b[0m\u001b[0;34m\u001b[0m\u001b[0m\n\u001b[1;32m     57\u001b[0m             \u001b[0;32mif\u001b[0m \u001b[0martist\u001b[0m\u001b[0;34m.\u001b[0m\u001b[0mget_agg_filter\u001b[0m\u001b[0;34m(\u001b[0m\u001b[0;34m)\u001b[0m \u001b[0;32mis\u001b[0m \u001b[0;32mnot\u001b[0m \u001b[0mNone\u001b[0m\u001b[0;34m:\u001b[0m\u001b[0;34m\u001b[0m\u001b[0m\n",
      "\u001b[0;32m/home/juferoga/anaconda2/lib/python2.7/site-packages/matplotlib/axes/_base.pyc\u001b[0m in \u001b[0;36mdraw\u001b[0;34m(self, renderer, inframe)\u001b[0m\n\u001b[1;32m   2633\u001b[0m             \u001b[0mrenderer\u001b[0m\u001b[0;34m.\u001b[0m\u001b[0mstop_rasterizing\u001b[0m\u001b[0;34m(\u001b[0m\u001b[0;34m)\u001b[0m\u001b[0;34m\u001b[0m\u001b[0m\n\u001b[1;32m   2634\u001b[0m \u001b[0;34m\u001b[0m\u001b[0m\n\u001b[0;32m-> 2635\u001b[0;31m         \u001b[0mmimage\u001b[0m\u001b[0;34m.\u001b[0m\u001b[0m_draw_list_compositing_images\u001b[0m\u001b[0;34m(\u001b[0m\u001b[0mrenderer\u001b[0m\u001b[0;34m,\u001b[0m \u001b[0mself\u001b[0m\u001b[0;34m,\u001b[0m \u001b[0martists\u001b[0m\u001b[0;34m)\u001b[0m\u001b[0;34m\u001b[0m\u001b[0m\n\u001b[0m\u001b[1;32m   2636\u001b[0m \u001b[0;34m\u001b[0m\u001b[0m\n\u001b[1;32m   2637\u001b[0m         \u001b[0mrenderer\u001b[0m\u001b[0;34m.\u001b[0m\u001b[0mclose_group\u001b[0m\u001b[0;34m(\u001b[0m\u001b[0;34m'axes'\u001b[0m\u001b[0;34m)\u001b[0m\u001b[0;34m\u001b[0m\u001b[0m\n",
      "\u001b[0;32m/home/juferoga/anaconda2/lib/python2.7/site-packages/matplotlib/image.pyc\u001b[0m in \u001b[0;36m_draw_list_compositing_images\u001b[0;34m(renderer, parent, artists, suppress_composite)\u001b[0m\n\u001b[1;32m    139\u001b[0m     \u001b[0;32mif\u001b[0m \u001b[0mnot_composite\u001b[0m \u001b[0;32mor\u001b[0m \u001b[0;32mnot\u001b[0m \u001b[0mhas_images\u001b[0m\u001b[0;34m:\u001b[0m\u001b[0;34m\u001b[0m\u001b[0m\n\u001b[1;32m    140\u001b[0m         \u001b[0;32mfor\u001b[0m \u001b[0ma\u001b[0m \u001b[0;32min\u001b[0m \u001b[0martists\u001b[0m\u001b[0;34m:\u001b[0m\u001b[0;34m\u001b[0m\u001b[0m\n\u001b[0;32m--> 141\u001b[0;31m             \u001b[0ma\u001b[0m\u001b[0;34m.\u001b[0m\u001b[0mdraw\u001b[0m\u001b[0;34m(\u001b[0m\u001b[0mrenderer\u001b[0m\u001b[0;34m)\u001b[0m\u001b[0;34m\u001b[0m\u001b[0m\n\u001b[0m\u001b[1;32m    142\u001b[0m     \u001b[0;32melse\u001b[0m\u001b[0;34m:\u001b[0m\u001b[0;34m\u001b[0m\u001b[0m\n\u001b[1;32m    143\u001b[0m         \u001b[0;31m# Composite any adjacent images together\u001b[0m\u001b[0;34m\u001b[0m\u001b[0;34m\u001b[0m\u001b[0m\n",
      "\u001b[0;32m/home/juferoga/anaconda2/lib/python2.7/site-packages/matplotlib/artist.pyc\u001b[0m in \u001b[0;36mdraw_wrapper\u001b[0;34m(artist, renderer, *args, **kwargs)\u001b[0m\n\u001b[1;32m     53\u001b[0m                 \u001b[0mrenderer\u001b[0m\u001b[0;34m.\u001b[0m\u001b[0mstart_filter\u001b[0m\u001b[0;34m(\u001b[0m\u001b[0;34m)\u001b[0m\u001b[0;34m\u001b[0m\u001b[0m\n\u001b[1;32m     54\u001b[0m \u001b[0;34m\u001b[0m\u001b[0m\n\u001b[0;32m---> 55\u001b[0;31m             \u001b[0;32mreturn\u001b[0m \u001b[0mdraw\u001b[0m\u001b[0;34m(\u001b[0m\u001b[0martist\u001b[0m\u001b[0;34m,\u001b[0m \u001b[0mrenderer\u001b[0m\u001b[0;34m,\u001b[0m \u001b[0;34m*\u001b[0m\u001b[0margs\u001b[0m\u001b[0;34m,\u001b[0m \u001b[0;34m**\u001b[0m\u001b[0mkwargs\u001b[0m\u001b[0;34m)\u001b[0m\u001b[0;34m\u001b[0m\u001b[0m\n\u001b[0m\u001b[1;32m     56\u001b[0m         \u001b[0;32mfinally\u001b[0m\u001b[0;34m:\u001b[0m\u001b[0;34m\u001b[0m\u001b[0m\n\u001b[1;32m     57\u001b[0m             \u001b[0;32mif\u001b[0m \u001b[0martist\u001b[0m\u001b[0;34m.\u001b[0m\u001b[0mget_agg_filter\u001b[0m\u001b[0;34m(\u001b[0m\u001b[0;34m)\u001b[0m \u001b[0;32mis\u001b[0m \u001b[0;32mnot\u001b[0m \u001b[0mNone\u001b[0m\u001b[0;34m:\u001b[0m\u001b[0;34m\u001b[0m\u001b[0m\n",
      "\u001b[0;32m/home/juferoga/anaconda2/lib/python2.7/site-packages/matplotlib/text.pyc\u001b[0m in \u001b[0;36mdraw\u001b[0;34m(self, renderer)\u001b[0m\n\u001b[1;32m    704\u001b[0m \u001b[0;34m\u001b[0m\u001b[0m\n\u001b[1;32m    705\u001b[0m         \u001b[0;32mwith\u001b[0m \u001b[0m_wrap_text\u001b[0m\u001b[0;34m(\u001b[0m\u001b[0mself\u001b[0m\u001b[0;34m)\u001b[0m \u001b[0;32mas\u001b[0m \u001b[0mtextobj\u001b[0m\u001b[0;34m:\u001b[0m\u001b[0;34m\u001b[0m\u001b[0m\n\u001b[0;32m--> 706\u001b[0;31m             \u001b[0mbbox\u001b[0m\u001b[0;34m,\u001b[0m \u001b[0minfo\u001b[0m\u001b[0;34m,\u001b[0m \u001b[0mdescent\u001b[0m \u001b[0;34m=\u001b[0m \u001b[0mtextobj\u001b[0m\u001b[0;34m.\u001b[0m\u001b[0m_get_layout\u001b[0m\u001b[0;34m(\u001b[0m\u001b[0mrenderer\u001b[0m\u001b[0;34m)\u001b[0m\u001b[0;34m\u001b[0m\u001b[0m\n\u001b[0m\u001b[1;32m    707\u001b[0m             \u001b[0mtrans\u001b[0m \u001b[0;34m=\u001b[0m \u001b[0mtextobj\u001b[0m\u001b[0;34m.\u001b[0m\u001b[0mget_transform\u001b[0m\u001b[0;34m(\u001b[0m\u001b[0;34m)\u001b[0m\u001b[0;34m\u001b[0m\u001b[0m\n\u001b[1;32m    708\u001b[0m \u001b[0;34m\u001b[0m\u001b[0m\n",
      "\u001b[0;32m/home/juferoga/anaconda2/lib/python2.7/site-packages/matplotlib/text.pyc\u001b[0m in \u001b[0;36m_get_layout\u001b[0;34m(self, renderer)\u001b[0m\n\u001b[1;32m    303\u001b[0m         \u001b[0mbaseline\u001b[0m \u001b[0;34m=\u001b[0m \u001b[0;36m0\u001b[0m\u001b[0;34m\u001b[0m\u001b[0m\n\u001b[1;32m    304\u001b[0m         \u001b[0;32mfor\u001b[0m \u001b[0mi\u001b[0m\u001b[0;34m,\u001b[0m \u001b[0mline\u001b[0m \u001b[0;32min\u001b[0m \u001b[0menumerate\u001b[0m\u001b[0;34m(\u001b[0m\u001b[0mlines\u001b[0m\u001b[0;34m)\u001b[0m\u001b[0;34m:\u001b[0m\u001b[0;34m\u001b[0m\u001b[0m\n\u001b[0;32m--> 305\u001b[0;31m             \u001b[0mclean_line\u001b[0m\u001b[0;34m,\u001b[0m \u001b[0mismath\u001b[0m \u001b[0;34m=\u001b[0m \u001b[0mself\u001b[0m\u001b[0;34m.\u001b[0m\u001b[0mis_math_text\u001b[0m\u001b[0;34m(\u001b[0m\u001b[0mline\u001b[0m\u001b[0;34m,\u001b[0m \u001b[0mself\u001b[0m\u001b[0;34m.\u001b[0m\u001b[0mget_usetex\u001b[0m\u001b[0;34m(\u001b[0m\u001b[0;34m)\u001b[0m\u001b[0;34m)\u001b[0m\u001b[0;34m\u001b[0m\u001b[0m\n\u001b[0m\u001b[1;32m    306\u001b[0m             \u001b[0;32mif\u001b[0m \u001b[0mclean_line\u001b[0m\u001b[0;34m:\u001b[0m\u001b[0;34m\u001b[0m\u001b[0m\n\u001b[1;32m    307\u001b[0m                 w, h, d = renderer.get_text_width_height_descent(clean_line,\n",
      "\u001b[0;32m/home/juferoga/anaconda2/lib/python2.7/site-packages/matplotlib/text.pyc\u001b[0m in \u001b[0;36mis_math_text\u001b[0;34m(s, usetex)\u001b[0m\n\u001b[1;32m   1186\u001b[0m             \u001b[0;32mreturn\u001b[0m \u001b[0ms\u001b[0m\u001b[0;34m,\u001b[0m \u001b[0;34m'TeX'\u001b[0m\u001b[0;34m\u001b[0m\u001b[0m\n\u001b[1;32m   1187\u001b[0m \u001b[0;34m\u001b[0m\u001b[0m\n\u001b[0;32m-> 1188\u001b[0;31m         \u001b[0;32mif\u001b[0m \u001b[0mcbook\u001b[0m\u001b[0;34m.\u001b[0m\u001b[0mis_math_text\u001b[0m\u001b[0;34m(\u001b[0m\u001b[0ms\u001b[0m\u001b[0;34m)\u001b[0m\u001b[0;34m:\u001b[0m\u001b[0;34m\u001b[0m\u001b[0m\n\u001b[0m\u001b[1;32m   1189\u001b[0m             \u001b[0;32mreturn\u001b[0m \u001b[0ms\u001b[0m\u001b[0;34m,\u001b[0m \u001b[0mTrue\u001b[0m\u001b[0;34m\u001b[0m\u001b[0m\n\u001b[1;32m   1190\u001b[0m         \u001b[0;32melse\u001b[0m\u001b[0;34m:\u001b[0m\u001b[0;34m\u001b[0m\u001b[0m\n",
      "\u001b[0;32m/home/juferoga/anaconda2/lib/python2.7/site-packages/matplotlib/cbook/__init__.pyc\u001b[0m in \u001b[0;36mis_math_text\u001b[0;34m(s)\u001b[0m\n\u001b[1;32m   2033\u001b[0m     \u001b[0;32mexcept\u001b[0m \u001b[0mUnicodeDecodeError\u001b[0m\u001b[0;34m:\u001b[0m\u001b[0;34m\u001b[0m\u001b[0m\n\u001b[1;32m   2034\u001b[0m         raise ValueError(\n\u001b[0;32m-> 2035\u001b[0;31m             \u001b[0;34m\"matplotlib display text must have all code points < 128 or use \"\u001b[0m\u001b[0;34m\u001b[0m\u001b[0m\n\u001b[0m\u001b[1;32m   2036\u001b[0m             \"Unicode strings\")\n\u001b[1;32m   2037\u001b[0m \u001b[0;34m\u001b[0m\u001b[0m\n",
      "\u001b[0;31mValueError\u001b[0m: matplotlib display text must have all code points < 128 or use Unicode strings"
     ]
    },
    {
     "ename": "ValueError",
     "evalue": "matplotlib display text must have all code points < 128 or use Unicode strings",
     "output_type": "error",
     "traceback": [
      "\u001b[0;31m---------------------------------------------------------------------------\u001b[0m",
      "\u001b[0;31mValueError\u001b[0m                                Traceback (most recent call last)",
      "\u001b[0;32m/home/juferoga/anaconda2/lib/python2.7/site-packages/IPython/core/formatters.pyc\u001b[0m in \u001b[0;36m__call__\u001b[0;34m(self, obj)\u001b[0m\n\u001b[1;32m    332\u001b[0m                 \u001b[0;32mpass\u001b[0m\u001b[0;34m\u001b[0m\u001b[0m\n\u001b[1;32m    333\u001b[0m             \u001b[0;32melse\u001b[0m\u001b[0;34m:\u001b[0m\u001b[0;34m\u001b[0m\u001b[0m\n\u001b[0;32m--> 334\u001b[0;31m                 \u001b[0;32mreturn\u001b[0m \u001b[0mprinter\u001b[0m\u001b[0;34m(\u001b[0m\u001b[0mobj\u001b[0m\u001b[0;34m)\u001b[0m\u001b[0;34m\u001b[0m\u001b[0m\n\u001b[0m\u001b[1;32m    335\u001b[0m             \u001b[0;31m# Finally look for special method names\u001b[0m\u001b[0;34m\u001b[0m\u001b[0;34m\u001b[0m\u001b[0m\n\u001b[1;32m    336\u001b[0m             \u001b[0mmethod\u001b[0m \u001b[0;34m=\u001b[0m \u001b[0mget_real_method\u001b[0m\u001b[0;34m(\u001b[0m\u001b[0mobj\u001b[0m\u001b[0;34m,\u001b[0m \u001b[0mself\u001b[0m\u001b[0;34m.\u001b[0m\u001b[0mprint_method\u001b[0m\u001b[0;34m)\u001b[0m\u001b[0;34m\u001b[0m\u001b[0m\n",
      "\u001b[0;32m/home/juferoga/anaconda2/lib/python2.7/site-packages/IPython/core/pylabtools.pyc\u001b[0m in \u001b[0;36m<lambda>\u001b[0;34m(fig)\u001b[0m\n\u001b[1;32m    245\u001b[0m \u001b[0;34m\u001b[0m\u001b[0m\n\u001b[1;32m    246\u001b[0m     \u001b[0;32mif\u001b[0m \u001b[0;34m'png'\u001b[0m \u001b[0;32min\u001b[0m \u001b[0mformats\u001b[0m\u001b[0;34m:\u001b[0m\u001b[0;34m\u001b[0m\u001b[0m\n\u001b[0;32m--> 247\u001b[0;31m         \u001b[0mpng_formatter\u001b[0m\u001b[0;34m.\u001b[0m\u001b[0mfor_type\u001b[0m\u001b[0;34m(\u001b[0m\u001b[0mFigure\u001b[0m\u001b[0;34m,\u001b[0m \u001b[0;32mlambda\u001b[0m \u001b[0mfig\u001b[0m\u001b[0;34m:\u001b[0m \u001b[0mprint_figure\u001b[0m\u001b[0;34m(\u001b[0m\u001b[0mfig\u001b[0m\u001b[0;34m,\u001b[0m \u001b[0;34m'png'\u001b[0m\u001b[0;34m,\u001b[0m \u001b[0;34m**\u001b[0m\u001b[0mkwargs\u001b[0m\u001b[0;34m)\u001b[0m\u001b[0;34m)\u001b[0m\u001b[0;34m\u001b[0m\u001b[0m\n\u001b[0m\u001b[1;32m    248\u001b[0m     \u001b[0;32mif\u001b[0m \u001b[0;34m'retina'\u001b[0m \u001b[0;32min\u001b[0m \u001b[0mformats\u001b[0m \u001b[0;32mor\u001b[0m \u001b[0;34m'png2x'\u001b[0m \u001b[0;32min\u001b[0m \u001b[0mformats\u001b[0m\u001b[0;34m:\u001b[0m\u001b[0;34m\u001b[0m\u001b[0m\n\u001b[1;32m    249\u001b[0m         \u001b[0mpng_formatter\u001b[0m\u001b[0;34m.\u001b[0m\u001b[0mfor_type\u001b[0m\u001b[0;34m(\u001b[0m\u001b[0mFigure\u001b[0m\u001b[0;34m,\u001b[0m \u001b[0;32mlambda\u001b[0m \u001b[0mfig\u001b[0m\u001b[0;34m:\u001b[0m \u001b[0mretina_figure\u001b[0m\u001b[0;34m(\u001b[0m\u001b[0mfig\u001b[0m\u001b[0;34m,\u001b[0m \u001b[0;34m**\u001b[0m\u001b[0mkwargs\u001b[0m\u001b[0;34m)\u001b[0m\u001b[0;34m)\u001b[0m\u001b[0;34m\u001b[0m\u001b[0m\n",
      "\u001b[0;32m/home/juferoga/anaconda2/lib/python2.7/site-packages/IPython/core/pylabtools.pyc\u001b[0m in \u001b[0;36mprint_figure\u001b[0;34m(fig, fmt, bbox_inches, **kwargs)\u001b[0m\n\u001b[1;32m    129\u001b[0m \u001b[0;34m\u001b[0m\u001b[0m\n\u001b[1;32m    130\u001b[0m     \u001b[0mbytes_io\u001b[0m \u001b[0;34m=\u001b[0m \u001b[0mBytesIO\u001b[0m\u001b[0;34m(\u001b[0m\u001b[0;34m)\u001b[0m\u001b[0;34m\u001b[0m\u001b[0m\n\u001b[0;32m--> 131\u001b[0;31m     \u001b[0mfig\u001b[0m\u001b[0;34m.\u001b[0m\u001b[0mcanvas\u001b[0m\u001b[0;34m.\u001b[0m\u001b[0mprint_figure\u001b[0m\u001b[0;34m(\u001b[0m\u001b[0mbytes_io\u001b[0m\u001b[0;34m,\u001b[0m \u001b[0;34m**\u001b[0m\u001b[0mkw\u001b[0m\u001b[0;34m)\u001b[0m\u001b[0;34m\u001b[0m\u001b[0m\n\u001b[0m\u001b[1;32m    132\u001b[0m     \u001b[0mdata\u001b[0m \u001b[0;34m=\u001b[0m \u001b[0mbytes_io\u001b[0m\u001b[0;34m.\u001b[0m\u001b[0mgetvalue\u001b[0m\u001b[0;34m(\u001b[0m\u001b[0;34m)\u001b[0m\u001b[0;34m\u001b[0m\u001b[0m\n\u001b[1;32m    133\u001b[0m     \u001b[0;32mif\u001b[0m \u001b[0mfmt\u001b[0m \u001b[0;34m==\u001b[0m \u001b[0;34m'svg'\u001b[0m\u001b[0;34m:\u001b[0m\u001b[0;34m\u001b[0m\u001b[0m\n",
      "\u001b[0;32m/home/juferoga/anaconda2/lib/python2.7/site-packages/matplotlib/backend_bases.pyc\u001b[0m in \u001b[0;36mprint_figure\u001b[0;34m(self, filename, dpi, facecolor, edgecolor, orientation, format, **kwargs)\u001b[0m\n\u001b[1;32m   2210\u001b[0m                     \u001b[0morientation\u001b[0m\u001b[0;34m=\u001b[0m\u001b[0morientation\u001b[0m\u001b[0;34m,\u001b[0m\u001b[0;34m\u001b[0m\u001b[0m\n\u001b[1;32m   2211\u001b[0m                     \u001b[0mdryrun\u001b[0m\u001b[0;34m=\u001b[0m\u001b[0mTrue\u001b[0m\u001b[0;34m,\u001b[0m\u001b[0;34m\u001b[0m\u001b[0m\n\u001b[0;32m-> 2212\u001b[0;31m                     **kwargs)\n\u001b[0m\u001b[1;32m   2213\u001b[0m                 \u001b[0mrenderer\u001b[0m \u001b[0;34m=\u001b[0m \u001b[0mself\u001b[0m\u001b[0;34m.\u001b[0m\u001b[0mfigure\u001b[0m\u001b[0;34m.\u001b[0m\u001b[0m_cachedRenderer\u001b[0m\u001b[0;34m\u001b[0m\u001b[0m\n\u001b[1;32m   2214\u001b[0m                 \u001b[0mbbox_inches\u001b[0m \u001b[0;34m=\u001b[0m \u001b[0mself\u001b[0m\u001b[0;34m.\u001b[0m\u001b[0mfigure\u001b[0m\u001b[0;34m.\u001b[0m\u001b[0mget_tightbbox\u001b[0m\u001b[0;34m(\u001b[0m\u001b[0mrenderer\u001b[0m\u001b[0;34m)\u001b[0m\u001b[0;34m\u001b[0m\u001b[0m\n",
      "\u001b[0;32m/home/juferoga/anaconda2/lib/python2.7/site-packages/matplotlib/backends/backend_agg.pyc\u001b[0m in \u001b[0;36mprint_png\u001b[0;34m(self, filename_or_obj, *args, **kwargs)\u001b[0m\n\u001b[1;32m    515\u001b[0m \u001b[0;34m\u001b[0m\u001b[0m\n\u001b[1;32m    516\u001b[0m     \u001b[0;32mdef\u001b[0m \u001b[0mprint_png\u001b[0m\u001b[0;34m(\u001b[0m\u001b[0mself\u001b[0m\u001b[0;34m,\u001b[0m \u001b[0mfilename_or_obj\u001b[0m\u001b[0;34m,\u001b[0m \u001b[0;34m*\u001b[0m\u001b[0margs\u001b[0m\u001b[0;34m,\u001b[0m \u001b[0;34m**\u001b[0m\u001b[0mkwargs\u001b[0m\u001b[0;34m)\u001b[0m\u001b[0;34m:\u001b[0m\u001b[0;34m\u001b[0m\u001b[0m\n\u001b[0;32m--> 517\u001b[0;31m         \u001b[0mFigureCanvasAgg\u001b[0m\u001b[0;34m.\u001b[0m\u001b[0mdraw\u001b[0m\u001b[0;34m(\u001b[0m\u001b[0mself\u001b[0m\u001b[0;34m)\u001b[0m\u001b[0;34m\u001b[0m\u001b[0m\n\u001b[0m\u001b[1;32m    518\u001b[0m         \u001b[0mrenderer\u001b[0m \u001b[0;34m=\u001b[0m \u001b[0mself\u001b[0m\u001b[0;34m.\u001b[0m\u001b[0mget_renderer\u001b[0m\u001b[0;34m(\u001b[0m\u001b[0;34m)\u001b[0m\u001b[0;34m\u001b[0m\u001b[0m\n\u001b[1;32m    519\u001b[0m         \u001b[0moriginal_dpi\u001b[0m \u001b[0;34m=\u001b[0m \u001b[0mrenderer\u001b[0m\u001b[0;34m.\u001b[0m\u001b[0mdpi\u001b[0m\u001b[0;34m\u001b[0m\u001b[0m\n",
      "\u001b[0;32m/home/juferoga/anaconda2/lib/python2.7/site-packages/matplotlib/backends/backend_agg.pyc\u001b[0m in \u001b[0;36mdraw\u001b[0;34m(self)\u001b[0m\n\u001b[1;32m    435\u001b[0m             \u001b[0;31m# if toolbar:\u001b[0m\u001b[0;34m\u001b[0m\u001b[0;34m\u001b[0m\u001b[0m\n\u001b[1;32m    436\u001b[0m             \u001b[0;31m#     toolbar.set_cursor(cursors.WAIT)\u001b[0m\u001b[0;34m\u001b[0m\u001b[0;34m\u001b[0m\u001b[0m\n\u001b[0;32m--> 437\u001b[0;31m             \u001b[0mself\u001b[0m\u001b[0;34m.\u001b[0m\u001b[0mfigure\u001b[0m\u001b[0;34m.\u001b[0m\u001b[0mdraw\u001b[0m\u001b[0;34m(\u001b[0m\u001b[0mself\u001b[0m\u001b[0;34m.\u001b[0m\u001b[0mrenderer\u001b[0m\u001b[0;34m)\u001b[0m\u001b[0;34m\u001b[0m\u001b[0m\n\u001b[0m\u001b[1;32m    438\u001b[0m             \u001b[0;31m# A GUI class may be need to update a window using this draw, so\u001b[0m\u001b[0;34m\u001b[0m\u001b[0;34m\u001b[0m\u001b[0m\n\u001b[1;32m    439\u001b[0m             \u001b[0;31m# don't forget to call the superclass.\u001b[0m\u001b[0;34m\u001b[0m\u001b[0;34m\u001b[0m\u001b[0m\n",
      "\u001b[0;32m/home/juferoga/anaconda2/lib/python2.7/site-packages/matplotlib/artist.pyc\u001b[0m in \u001b[0;36mdraw_wrapper\u001b[0;34m(artist, renderer, *args, **kwargs)\u001b[0m\n\u001b[1;32m     53\u001b[0m                 \u001b[0mrenderer\u001b[0m\u001b[0;34m.\u001b[0m\u001b[0mstart_filter\u001b[0m\u001b[0;34m(\u001b[0m\u001b[0;34m)\u001b[0m\u001b[0;34m\u001b[0m\u001b[0m\n\u001b[1;32m     54\u001b[0m \u001b[0;34m\u001b[0m\u001b[0m\n\u001b[0;32m---> 55\u001b[0;31m             \u001b[0;32mreturn\u001b[0m \u001b[0mdraw\u001b[0m\u001b[0;34m(\u001b[0m\u001b[0martist\u001b[0m\u001b[0;34m,\u001b[0m \u001b[0mrenderer\u001b[0m\u001b[0;34m,\u001b[0m \u001b[0;34m*\u001b[0m\u001b[0margs\u001b[0m\u001b[0;34m,\u001b[0m \u001b[0;34m**\u001b[0m\u001b[0mkwargs\u001b[0m\u001b[0;34m)\u001b[0m\u001b[0;34m\u001b[0m\u001b[0m\n\u001b[0m\u001b[1;32m     56\u001b[0m         \u001b[0;32mfinally\u001b[0m\u001b[0;34m:\u001b[0m\u001b[0;34m\u001b[0m\u001b[0m\n\u001b[1;32m     57\u001b[0m             \u001b[0;32mif\u001b[0m \u001b[0martist\u001b[0m\u001b[0;34m.\u001b[0m\u001b[0mget_agg_filter\u001b[0m\u001b[0;34m(\u001b[0m\u001b[0;34m)\u001b[0m \u001b[0;32mis\u001b[0m \u001b[0;32mnot\u001b[0m \u001b[0mNone\u001b[0m\u001b[0;34m:\u001b[0m\u001b[0;34m\u001b[0m\u001b[0m\n",
      "\u001b[0;32m/home/juferoga/anaconda2/lib/python2.7/site-packages/matplotlib/figure.pyc\u001b[0m in \u001b[0;36mdraw\u001b[0;34m(self, renderer)\u001b[0m\n\u001b[1;32m   1491\u001b[0m \u001b[0;34m\u001b[0m\u001b[0m\n\u001b[1;32m   1492\u001b[0m             mimage._draw_list_compositing_images(\n\u001b[0;32m-> 1493\u001b[0;31m                 renderer, self, artists, self.suppressComposite)\n\u001b[0m\u001b[1;32m   1494\u001b[0m \u001b[0;34m\u001b[0m\u001b[0m\n\u001b[1;32m   1495\u001b[0m             \u001b[0mrenderer\u001b[0m\u001b[0;34m.\u001b[0m\u001b[0mclose_group\u001b[0m\u001b[0;34m(\u001b[0m\u001b[0;34m'figure'\u001b[0m\u001b[0;34m)\u001b[0m\u001b[0;34m\u001b[0m\u001b[0m\n",
      "\u001b[0;32m/home/juferoga/anaconda2/lib/python2.7/site-packages/matplotlib/image.pyc\u001b[0m in \u001b[0;36m_draw_list_compositing_images\u001b[0;34m(renderer, parent, artists, suppress_composite)\u001b[0m\n\u001b[1;32m    139\u001b[0m     \u001b[0;32mif\u001b[0m \u001b[0mnot_composite\u001b[0m \u001b[0;32mor\u001b[0m \u001b[0;32mnot\u001b[0m \u001b[0mhas_images\u001b[0m\u001b[0;34m:\u001b[0m\u001b[0;34m\u001b[0m\u001b[0m\n\u001b[1;32m    140\u001b[0m         \u001b[0;32mfor\u001b[0m \u001b[0ma\u001b[0m \u001b[0;32min\u001b[0m \u001b[0martists\u001b[0m\u001b[0;34m:\u001b[0m\u001b[0;34m\u001b[0m\u001b[0m\n\u001b[0;32m--> 141\u001b[0;31m             \u001b[0ma\u001b[0m\u001b[0;34m.\u001b[0m\u001b[0mdraw\u001b[0m\u001b[0;34m(\u001b[0m\u001b[0mrenderer\u001b[0m\u001b[0;34m)\u001b[0m\u001b[0;34m\u001b[0m\u001b[0m\n\u001b[0m\u001b[1;32m    142\u001b[0m     \u001b[0;32melse\u001b[0m\u001b[0;34m:\u001b[0m\u001b[0;34m\u001b[0m\u001b[0m\n\u001b[1;32m    143\u001b[0m         \u001b[0;31m# Composite any adjacent images together\u001b[0m\u001b[0;34m\u001b[0m\u001b[0;34m\u001b[0m\u001b[0m\n",
      "\u001b[0;32m/home/juferoga/anaconda2/lib/python2.7/site-packages/matplotlib/artist.pyc\u001b[0m in \u001b[0;36mdraw_wrapper\u001b[0;34m(artist, renderer, *args, **kwargs)\u001b[0m\n\u001b[1;32m     53\u001b[0m                 \u001b[0mrenderer\u001b[0m\u001b[0;34m.\u001b[0m\u001b[0mstart_filter\u001b[0m\u001b[0;34m(\u001b[0m\u001b[0;34m)\u001b[0m\u001b[0;34m\u001b[0m\u001b[0m\n\u001b[1;32m     54\u001b[0m \u001b[0;34m\u001b[0m\u001b[0m\n\u001b[0;32m---> 55\u001b[0;31m             \u001b[0;32mreturn\u001b[0m \u001b[0mdraw\u001b[0m\u001b[0;34m(\u001b[0m\u001b[0martist\u001b[0m\u001b[0;34m,\u001b[0m \u001b[0mrenderer\u001b[0m\u001b[0;34m,\u001b[0m \u001b[0;34m*\u001b[0m\u001b[0margs\u001b[0m\u001b[0;34m,\u001b[0m \u001b[0;34m**\u001b[0m\u001b[0mkwargs\u001b[0m\u001b[0;34m)\u001b[0m\u001b[0;34m\u001b[0m\u001b[0m\n\u001b[0m\u001b[1;32m     56\u001b[0m         \u001b[0;32mfinally\u001b[0m\u001b[0;34m:\u001b[0m\u001b[0;34m\u001b[0m\u001b[0m\n\u001b[1;32m     57\u001b[0m             \u001b[0;32mif\u001b[0m \u001b[0martist\u001b[0m\u001b[0;34m.\u001b[0m\u001b[0mget_agg_filter\u001b[0m\u001b[0;34m(\u001b[0m\u001b[0;34m)\u001b[0m \u001b[0;32mis\u001b[0m \u001b[0;32mnot\u001b[0m \u001b[0mNone\u001b[0m\u001b[0;34m:\u001b[0m\u001b[0;34m\u001b[0m\u001b[0m\n",
      "\u001b[0;32m/home/juferoga/anaconda2/lib/python2.7/site-packages/matplotlib/axes/_base.pyc\u001b[0m in \u001b[0;36mdraw\u001b[0;34m(self, renderer, inframe)\u001b[0m\n\u001b[1;32m   2633\u001b[0m             \u001b[0mrenderer\u001b[0m\u001b[0;34m.\u001b[0m\u001b[0mstop_rasterizing\u001b[0m\u001b[0;34m(\u001b[0m\u001b[0;34m)\u001b[0m\u001b[0;34m\u001b[0m\u001b[0m\n\u001b[1;32m   2634\u001b[0m \u001b[0;34m\u001b[0m\u001b[0m\n\u001b[0;32m-> 2635\u001b[0;31m         \u001b[0mmimage\u001b[0m\u001b[0;34m.\u001b[0m\u001b[0m_draw_list_compositing_images\u001b[0m\u001b[0;34m(\u001b[0m\u001b[0mrenderer\u001b[0m\u001b[0;34m,\u001b[0m \u001b[0mself\u001b[0m\u001b[0;34m,\u001b[0m \u001b[0martists\u001b[0m\u001b[0;34m)\u001b[0m\u001b[0;34m\u001b[0m\u001b[0m\n\u001b[0m\u001b[1;32m   2636\u001b[0m \u001b[0;34m\u001b[0m\u001b[0m\n\u001b[1;32m   2637\u001b[0m         \u001b[0mrenderer\u001b[0m\u001b[0;34m.\u001b[0m\u001b[0mclose_group\u001b[0m\u001b[0;34m(\u001b[0m\u001b[0;34m'axes'\u001b[0m\u001b[0;34m)\u001b[0m\u001b[0;34m\u001b[0m\u001b[0m\n",
      "\u001b[0;32m/home/juferoga/anaconda2/lib/python2.7/site-packages/matplotlib/image.pyc\u001b[0m in \u001b[0;36m_draw_list_compositing_images\u001b[0;34m(renderer, parent, artists, suppress_composite)\u001b[0m\n\u001b[1;32m    139\u001b[0m     \u001b[0;32mif\u001b[0m \u001b[0mnot_composite\u001b[0m \u001b[0;32mor\u001b[0m \u001b[0;32mnot\u001b[0m \u001b[0mhas_images\u001b[0m\u001b[0;34m:\u001b[0m\u001b[0;34m\u001b[0m\u001b[0m\n\u001b[1;32m    140\u001b[0m         \u001b[0;32mfor\u001b[0m \u001b[0ma\u001b[0m \u001b[0;32min\u001b[0m \u001b[0martists\u001b[0m\u001b[0;34m:\u001b[0m\u001b[0;34m\u001b[0m\u001b[0m\n\u001b[0;32m--> 141\u001b[0;31m             \u001b[0ma\u001b[0m\u001b[0;34m.\u001b[0m\u001b[0mdraw\u001b[0m\u001b[0;34m(\u001b[0m\u001b[0mrenderer\u001b[0m\u001b[0;34m)\u001b[0m\u001b[0;34m\u001b[0m\u001b[0m\n\u001b[0m\u001b[1;32m    142\u001b[0m     \u001b[0;32melse\u001b[0m\u001b[0;34m:\u001b[0m\u001b[0;34m\u001b[0m\u001b[0m\n\u001b[1;32m    143\u001b[0m         \u001b[0;31m# Composite any adjacent images together\u001b[0m\u001b[0;34m\u001b[0m\u001b[0;34m\u001b[0m\u001b[0m\n",
      "\u001b[0;32m/home/juferoga/anaconda2/lib/python2.7/site-packages/matplotlib/artist.pyc\u001b[0m in \u001b[0;36mdraw_wrapper\u001b[0;34m(artist, renderer, *args, **kwargs)\u001b[0m\n\u001b[1;32m     53\u001b[0m                 \u001b[0mrenderer\u001b[0m\u001b[0;34m.\u001b[0m\u001b[0mstart_filter\u001b[0m\u001b[0;34m(\u001b[0m\u001b[0;34m)\u001b[0m\u001b[0;34m\u001b[0m\u001b[0m\n\u001b[1;32m     54\u001b[0m \u001b[0;34m\u001b[0m\u001b[0m\n\u001b[0;32m---> 55\u001b[0;31m             \u001b[0;32mreturn\u001b[0m \u001b[0mdraw\u001b[0m\u001b[0;34m(\u001b[0m\u001b[0martist\u001b[0m\u001b[0;34m,\u001b[0m \u001b[0mrenderer\u001b[0m\u001b[0;34m,\u001b[0m \u001b[0;34m*\u001b[0m\u001b[0margs\u001b[0m\u001b[0;34m,\u001b[0m \u001b[0;34m**\u001b[0m\u001b[0mkwargs\u001b[0m\u001b[0;34m)\u001b[0m\u001b[0;34m\u001b[0m\u001b[0m\n\u001b[0m\u001b[1;32m     56\u001b[0m         \u001b[0;32mfinally\u001b[0m\u001b[0;34m:\u001b[0m\u001b[0;34m\u001b[0m\u001b[0m\n\u001b[1;32m     57\u001b[0m             \u001b[0;32mif\u001b[0m \u001b[0martist\u001b[0m\u001b[0;34m.\u001b[0m\u001b[0mget_agg_filter\u001b[0m\u001b[0;34m(\u001b[0m\u001b[0;34m)\u001b[0m \u001b[0;32mis\u001b[0m \u001b[0;32mnot\u001b[0m \u001b[0mNone\u001b[0m\u001b[0;34m:\u001b[0m\u001b[0;34m\u001b[0m\u001b[0m\n",
      "\u001b[0;32m/home/juferoga/anaconda2/lib/python2.7/site-packages/matplotlib/text.pyc\u001b[0m in \u001b[0;36mdraw\u001b[0;34m(self, renderer)\u001b[0m\n\u001b[1;32m    704\u001b[0m \u001b[0;34m\u001b[0m\u001b[0m\n\u001b[1;32m    705\u001b[0m         \u001b[0;32mwith\u001b[0m \u001b[0m_wrap_text\u001b[0m\u001b[0;34m(\u001b[0m\u001b[0mself\u001b[0m\u001b[0;34m)\u001b[0m \u001b[0;32mas\u001b[0m \u001b[0mtextobj\u001b[0m\u001b[0;34m:\u001b[0m\u001b[0;34m\u001b[0m\u001b[0m\n\u001b[0;32m--> 706\u001b[0;31m             \u001b[0mbbox\u001b[0m\u001b[0;34m,\u001b[0m \u001b[0minfo\u001b[0m\u001b[0;34m,\u001b[0m \u001b[0mdescent\u001b[0m \u001b[0;34m=\u001b[0m \u001b[0mtextobj\u001b[0m\u001b[0;34m.\u001b[0m\u001b[0m_get_layout\u001b[0m\u001b[0;34m(\u001b[0m\u001b[0mrenderer\u001b[0m\u001b[0;34m)\u001b[0m\u001b[0;34m\u001b[0m\u001b[0m\n\u001b[0m\u001b[1;32m    707\u001b[0m             \u001b[0mtrans\u001b[0m \u001b[0;34m=\u001b[0m \u001b[0mtextobj\u001b[0m\u001b[0;34m.\u001b[0m\u001b[0mget_transform\u001b[0m\u001b[0;34m(\u001b[0m\u001b[0;34m)\u001b[0m\u001b[0;34m\u001b[0m\u001b[0m\n\u001b[1;32m    708\u001b[0m \u001b[0;34m\u001b[0m\u001b[0m\n",
      "\u001b[0;32m/home/juferoga/anaconda2/lib/python2.7/site-packages/matplotlib/text.pyc\u001b[0m in \u001b[0;36m_get_layout\u001b[0;34m(self, renderer)\u001b[0m\n\u001b[1;32m    303\u001b[0m         \u001b[0mbaseline\u001b[0m \u001b[0;34m=\u001b[0m \u001b[0;36m0\u001b[0m\u001b[0;34m\u001b[0m\u001b[0m\n\u001b[1;32m    304\u001b[0m         \u001b[0;32mfor\u001b[0m \u001b[0mi\u001b[0m\u001b[0;34m,\u001b[0m \u001b[0mline\u001b[0m \u001b[0;32min\u001b[0m \u001b[0menumerate\u001b[0m\u001b[0;34m(\u001b[0m\u001b[0mlines\u001b[0m\u001b[0;34m)\u001b[0m\u001b[0;34m:\u001b[0m\u001b[0;34m\u001b[0m\u001b[0m\n\u001b[0;32m--> 305\u001b[0;31m             \u001b[0mclean_line\u001b[0m\u001b[0;34m,\u001b[0m \u001b[0mismath\u001b[0m \u001b[0;34m=\u001b[0m \u001b[0mself\u001b[0m\u001b[0;34m.\u001b[0m\u001b[0mis_math_text\u001b[0m\u001b[0;34m(\u001b[0m\u001b[0mline\u001b[0m\u001b[0;34m,\u001b[0m \u001b[0mself\u001b[0m\u001b[0;34m.\u001b[0m\u001b[0mget_usetex\u001b[0m\u001b[0;34m(\u001b[0m\u001b[0;34m)\u001b[0m\u001b[0;34m)\u001b[0m\u001b[0;34m\u001b[0m\u001b[0m\n\u001b[0m\u001b[1;32m    306\u001b[0m             \u001b[0;32mif\u001b[0m \u001b[0mclean_line\u001b[0m\u001b[0;34m:\u001b[0m\u001b[0;34m\u001b[0m\u001b[0m\n\u001b[1;32m    307\u001b[0m                 w, h, d = renderer.get_text_width_height_descent(clean_line,\n",
      "\u001b[0;32m/home/juferoga/anaconda2/lib/python2.7/site-packages/matplotlib/text.pyc\u001b[0m in \u001b[0;36mis_math_text\u001b[0;34m(s, usetex)\u001b[0m\n\u001b[1;32m   1186\u001b[0m             \u001b[0;32mreturn\u001b[0m \u001b[0ms\u001b[0m\u001b[0;34m,\u001b[0m \u001b[0;34m'TeX'\u001b[0m\u001b[0;34m\u001b[0m\u001b[0m\n\u001b[1;32m   1187\u001b[0m \u001b[0;34m\u001b[0m\u001b[0m\n\u001b[0;32m-> 1188\u001b[0;31m         \u001b[0;32mif\u001b[0m \u001b[0mcbook\u001b[0m\u001b[0;34m.\u001b[0m\u001b[0mis_math_text\u001b[0m\u001b[0;34m(\u001b[0m\u001b[0ms\u001b[0m\u001b[0;34m)\u001b[0m\u001b[0;34m:\u001b[0m\u001b[0;34m\u001b[0m\u001b[0m\n\u001b[0m\u001b[1;32m   1189\u001b[0m             \u001b[0;32mreturn\u001b[0m \u001b[0ms\u001b[0m\u001b[0;34m,\u001b[0m \u001b[0mTrue\u001b[0m\u001b[0;34m\u001b[0m\u001b[0m\n\u001b[1;32m   1190\u001b[0m         \u001b[0;32melse\u001b[0m\u001b[0;34m:\u001b[0m\u001b[0;34m\u001b[0m\u001b[0m\n",
      "\u001b[0;32m/home/juferoga/anaconda2/lib/python2.7/site-packages/matplotlib/cbook/__init__.pyc\u001b[0m in \u001b[0;36mis_math_text\u001b[0;34m(s)\u001b[0m\n\u001b[1;32m   2033\u001b[0m     \u001b[0;32mexcept\u001b[0m \u001b[0mUnicodeDecodeError\u001b[0m\u001b[0;34m:\u001b[0m\u001b[0;34m\u001b[0m\u001b[0m\n\u001b[1;32m   2034\u001b[0m         raise ValueError(\n\u001b[0;32m-> 2035\u001b[0;31m             \u001b[0;34m\"matplotlib display text must have all code points < 128 or use \"\u001b[0m\u001b[0;34m\u001b[0m\u001b[0m\n\u001b[0m\u001b[1;32m   2036\u001b[0m             \"Unicode strings\")\n\u001b[1;32m   2037\u001b[0m \u001b[0;34m\u001b[0m\u001b[0m\n",
      "\u001b[0;31mValueError\u001b[0m: matplotlib display text must have all code points < 128 or use Unicode strings"
     ]
    },
    {
     "data": {
      "text/plain": [
       "<Figure size 720x720 with 6 Axes>"
      ]
     },
     "metadata": {
      "needs_background": "light"
     },
     "output_type": "display_data"
    }
   ],
   "source": [
    "S4=data['Edad'][data['Estado']=='Leve']\n",
    "S5=data['Edad'][data['Estado']=='Asintomático']\n",
    "S6=data['Edad'][data['Estado']=='Fallecido']\n",
    "S7=data['Edad'][data['Estado']=='Moderado']\n",
    "S8=data['Edad'][data['Estado']=='Grave']\n",
    "frame = { 'Leves': S4, 'Asintomáticos': S5, 'Fallecidos': S6, 'Moderados': S7, 'Graves': S8 } \n",
    "df1=pd.DataFrame(frame)\n",
    "df1.hist(figsize=(10,10), bins=30)"
   ]
  },
  {
   "cell_type": "markdown",
   "metadata": {
    "colab_type": "text",
    "id": "L35fXdX9WpUa"
   },
   "source": [
    "\n",
    "\n",
    "---\n",
    "\n",
    "### Box\n",
    "\n",
    "\n",
    "---\n",
    "\n"
   ]
  },
  {
   "cell_type": "code",
   "execution_count": 69,
   "metadata": {
    "colab": {},
    "colab_type": "code",
    "id": "GUkR_cN9JK02"
   },
   "outputs": [
    {
     "data": {
      "text/plain": [
       "<matplotlib.axes._subplots.AxesSubplot at 0x7f9e5550f6d0>"
      ]
     },
     "execution_count": 69,
     "metadata": {},
     "output_type": "execute_result"
    },
    {
     "data": {
      "image/png": "[encoded data removed]",
      "text/plain": [
       "<Figure size 432x288 with 1 Axes>"
      ]
     },
     "metadata": {
      "needs_background": "light"
     },
     "output_type": "display_data"
    }
   ],
   "source": [
    "df1.plot.box()"
   ]
  },
  {
   "cell_type": "markdown",
   "metadata": {
    "colab_type": "text",
    "id": "AqlAO04AWuMz"
   },
   "source": [
    "\n",
    "\n",
    "---\n",
    "\n",
    "### Area\n",
    "\n",
    "\n",
    "---\n",
    "\n"
   ]
  },
  {
   "cell_type": "code",
   "execution_count": 70,
   "metadata": {
    "colab": {},
    "colab_type": "code",
    "id": "LLyGURZoLpYK",
    "scrolled": true
   },
   "outputs": [
    {
     "data": {
      "text/plain": [
       "<matplotlib.axes._subplots.AxesSubplot at 0x7f9e55502510>"
      ]
     },
     "execution_count": 70,
     "metadata": {},
     "output_type": "execute_result"
    },
    {
     "data": {
      "image/png": "[encoded data removed]",
      "text/plain": [
       "<Figure size 432x288 with 1 Axes>"
      ]
     },
     "metadata": {
      "needs_background": "light"
     },
     "output_type": "display_data"
    }
   ],
   "source": [
    "df.cumsum().plot.area(stacked=False)"
   ]
  },
  {
   "cell_type": "markdown",
   "metadata": {
    "colab_type": "text",
    "id": "4LqM258gWy-g"
   },
   "source": [
    "\n",
    "\n",
    "---\n",
    "\n",
    "###Scatter\n",
    "\n",
    "\n",
    "---\n",
    "\n"
   ]
  },
  {
   "cell_type": "code",
   "execution_count": 71,
   "metadata": {
    "colab": {},
    "colab_type": "code",
    "id": "pArB5K0iNvD7"
   },
   "outputs": [
    {
     "data": {
      "text/plain": [
       "<matplotlib.axes._subplots.AxesSubplot at 0x7f9e55408910>"
      ]
     },
     "execution_count": 71,
     "metadata": {},
     "output_type": "execute_result"
    },
    {
     "data": {
      "image/png": "[encoded data removed]",
      "text/plain": [
       "<Figure size 432x288 with 1 Axes>"
      ]
     },
     "metadata": {
      "needs_background": "light"
     },
     "output_type": "display_data"
    }
   ],
   "source": [
    "df.cumsum().plot.scatter(x='Contagiados', y='Muertos')"
   ]
  },
  {
   "cell_type": "markdown",
   "metadata": {
    "colab_type": "text",
    "id": "basYjKHOW3g7"
   },
   "source": [
    "\n",
    "\n",
    "---\n",
    "\n",
    "### Pie\n",
    "\n",
    "\n",
    "---\n",
    "\n"
   ]
  },
  {
   "cell_type": "code",
   "execution_count": 72,
   "metadata": {
    "colab": {},
    "colab_type": "code",
    "id": "0fASNHQ8YFtx"
   },
   "outputs": [
    {
     "data": {
      "text/plain": [
       "<matplotlib.axes._subplots.AxesSubplot at 0x7f9e553aaf90>"
      ]
     },
     "execution_count": 72,
     "metadata": {},
     "output_type": "execute_result"
    },
    {
     "data": {
      "image/png": "[encoded data removed]",
      "text/plain": [
       "<Figure size 432x432 with 1 Axes>"
      ]
     },
     "metadata": {},
     "output_type": "display_data"
    }
   ],
   "source": [
    " explode = (0.1, 0, 0, 0, 0, 0) \n",
    " data.groupby('Estado')['Estado'].count().plot.pie(figsize=(6, 6))"
   ]
  },
  {
   "cell_type": "code",
   "execution_count": 73,
   "metadata": {
    "colab": {},
    "colab_type": "code",
    "id": "2AePexZZbR-e"
   },
   "outputs": [
    {
     "data": {
      "text/plain": [
       "array(['Leve', 'Asintom\\xc3\\xa1tico', 'Fallecido', 'Grave', 'Moderado',\n",
       "       'leve', nan], dtype=object)"
      ]
     },
     "execution_count": 73,
     "metadata": {},
     "output_type": "execute_result"
    }
   ],
   "source": [
    "data['Estado'].unique()"
   ]
  },
  {
   "cell_type": "code",
   "execution_count": 74,
   "metadata": {
    "colab": {},
    "colab_type": "code",
    "id": "X5JaBeAWXiBX"
   },
   "outputs": [
    {
     "data": {
      "text/plain": [
       "array(['Leve', 'Asintom\\xc3\\xa1tico', 'Fallecido', 'Grave', 'Moderado',\n",
       "       nan], dtype=object)"
      ]
     },
     "execution_count": 74,
     "metadata": {},
     "output_type": "execute_result"
    }
   ],
   "source": [
    "data = data.replace('leve','Leve')\n",
    "data['Estado'].unique()"
   ]
  },
  {
   "cell_type": "code",
   "execution_count": 75,
   "metadata": {
    "colab": {},
    "colab_type": "code",
    "id": "R_Lmb1IrZZDN"
   },
   "outputs": [
    {
     "data": {
      "text/plain": [
       "<matplotlib.axes._subplots.AxesSubplot at 0x7f9e55309510>"
      ]
     },
     "execution_count": 75,
     "metadata": {},
     "output_type": "execute_result"
    },
    {
     "data": {
      "image/png": "[encoded data removed]",
      "text/plain": [
       "<Figure size 432x432 with 1 Axes>"
      ]
     },
     "metadata": {},
     "output_type": "display_data"
    }
   ],
   "source": [
    "explode = ( 0.1, 0) \n",
    "data.groupby('Estado')['Estado'].count().plot.pie(figsize=(6, 6), autopct='%1.1f%%')"
   ]
  }
 ],
 "metadata": {
  "colab": {
   "collapsed_sections": [
    "-c2tnoM5WYjn",
    "JCpyDXoTWhUL",
    "L35fXdX9WpUa",
    "AqlAO04AWuMz",
    "4LqM258gWy-g",
    "basYjKHOW3g7"
   ],
   "name": "Visualizar datos.ipynb",
   "provenance": []
  },
  "kernelspec": {
   "display_name": "Python 2",
   "language": "python",
   "name": "python2"
  },
  "language_info": {
   "codemirror_mode": {
    "name": "ipython",
    "version": 2
   },
   "file_extension": ".py",
   "mimetype": "text/x-python",
   "name": "python",
   "nbconvert_exporter": "python",
   "pygments_lexer": "ipython2",
   "version": "2.7.16"
  }
 },
 "nbformat": 4,
 "nbformat_minor": 1
}
